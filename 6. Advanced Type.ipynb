{
 "cells": [
  {
   "cell_type": "code",
   "execution_count": 1,
   "metadata": {},
   "outputs": [],
   "source": [
    "# 以組合代替繼承"
   ]
  },
  {
   "cell_type": "code",
   "execution_count": 2,
   "metadata": {},
   "outputs": [],
   "source": [
    "# 重複太冗長\n",
    "abstract type Role end\n",
    "\n",
    "mutable struct Swordman <: Role\n",
    "    hp::Int64\n",
    "    sp::Int64\n",
    "    str::Int64\n",
    "    vit::Int64\n",
    "    agi::Int64\n",
    "    int::Int64\n",
    "    dex::Int64\n",
    "    luk::Int64\n",
    "    Swordman() = new(1000, 200, 200, 200, 100, 50, 100, 50)\n",
    "end\n",
    "\n",
    "mutable struct Wizard <: Role\n",
    "    hp::Int64\n",
    "    sp::Int64\n",
    "    str::Int64\n",
    "    vit::Int64\n",
    "    agi::Int64\n",
    "    int::Int64\n",
    "    dex::Int64\n",
    "    luk::Int64\n",
    "    Wizard() = new(500, 1000, 50, 50 , 100, 200, 200, 100)\n",
    "end"
   ]
  },
  {
   "cell_type": "code",
   "execution_count": 1,
   "metadata": {},
   "outputs": [],
   "source": [
    "# 可把能力值獨立成一個型別\n",
    "\n",
    "mutable struct Ability\n",
    "    hp::Int64\n",
    "    sp::Int64\n",
    "    str::Int64\n",
    "    vit::Int64\n",
    "    agi::Int64\n",
    "    int::Int64\n",
    "    dex::Int64\n",
    "    luk::Int64\n",
    "end\n",
    "\n",
    "abstract type Role end\n",
    "\n",
    "struct Swordman <: Role\n",
    "    ability::Ability\n",
    "    Swordman() = new(Ability(1000, 200, 200, 200, 100, 50, 100, 50))\n",
    "    Swordman(hp, sp, str, vit, agi, int, dex, luk) = new(Ability(hp, sp, str, vit, agi, int, dex, luk))\n",
    "end\n",
    "\n",
    "struct Wizard <: Role\n",
    "    ability::Ability\n",
    "    Wizard() = new(Ability(500, 1000, 50, 50 , 100, 200, 200, 100))\n",
    "    Wizard(hp, sp, str, vit, agi, int, dex, luk) = new(Ability(hp, sp, str, vit, agi, int, dex, luk))\n",
    "end\n"
   ]
  },
  {
   "cell_type": "code",
   "execution_count": 2,
   "metadata": {},
   "outputs": [
    {
     "data": {
      "text/plain": [
       "(Swordman(Ability(50, 50, 50, 50, 50, 50, 50, 50)), Swordman(Ability(1000, 200, 200, 200, 100, 50, 100, 50)))"
      ]
     },
     "execution_count": 2,
     "metadata": {},
     "output_type": "execute_result"
    }
   ],
   "source": [
    "a, b = Swordman(50, 50, 50, 50, 50, 50, 50, 50), Swordman()"
   ]
  },
  {
   "cell_type": "code",
   "execution_count": 3,
   "metadata": {},
   "outputs": [
    {
     "data": {
      "text/plain": [
       "Swordman(Ability(60, 50, 50, 50, 50, 50, 50, 50))"
      ]
     },
     "execution_count": 3,
     "metadata": {},
     "output_type": "execute_result"
    }
   ],
   "source": [
    "a.ability.hp += 10\n",
    "a"
   ]
  },
  {
   "cell_type": "code",
   "execution_count": 4,
   "metadata": {},
   "outputs": [
    {
     "data": {
      "text/plain": [
       "heal! (generic function with 1 method)"
      ]
     },
     "execution_count": 4,
     "metadata": {},
     "output_type": "execute_result"
    }
   ],
   "source": [
    "# 外部建構子\n",
    "attack!(a::Role, b::Role) = (b.ability.hp -= (0.8 * a.ability.str - 0.6 * b.ability.vit))\n",
    "heal!(a::Role, hp::Int) = (a.ability.hp += hp)"
   ]
  },
  {
   "cell_type": "code",
   "execution_count": 5,
   "metadata": {},
   "outputs": [
    {
     "data": {
      "text/plain": [
       "Swordman(Ability(1000, 200, 200, 200, 100, 50, 100, 50))"
      ]
     },
     "execution_count": 5,
     "metadata": {},
     "output_type": "execute_result"
    }
   ],
   "source": [
    "sm = Swordman()"
   ]
  },
  {
   "cell_type": "code",
   "execution_count": 6,
   "metadata": {},
   "outputs": [
    {
     "data": {
      "text/plain": [
       "Wizard(Ability(500, 1000, 50, 50, 100, 200, 200, 100))"
      ]
     },
     "execution_count": 6,
     "metadata": {},
     "output_type": "execute_result"
    }
   ],
   "source": [
    "wz = Wizard()"
   ]
  },
  {
   "cell_type": "code",
   "execution_count": 7,
   "metadata": {},
   "outputs": [
    {
     "data": {
      "text/plain": [
       "370.0"
      ]
     },
     "execution_count": 7,
     "metadata": {},
     "output_type": "execute_result"
    }
   ],
   "source": [
    "attack!(sm, wz)"
   ]
  },
  {
   "cell_type": "code",
   "execution_count": 8,
   "metadata": {},
   "outputs": [
    {
     "data": {
      "text/plain": [
       "Wizard(Ability(370, 1000, 50, 50, 100, 200, 200, 100))"
      ]
     },
     "execution_count": 8,
     "metadata": {},
     "output_type": "execute_result"
    }
   ],
   "source": [
    "wz"
   ]
  },
  {
   "cell_type": "code",
   "execution_count": 3,
   "metadata": {},
   "outputs": [
    {
     "data": {
      "text/plain": [
       "iterate (generic function with 199 methods)"
      ]
     },
     "execution_count": 3,
     "metadata": {},
     "output_type": "execute_result"
    }
   ],
   "source": [
    "struct FibonacciIterable{I}\n",
    "    s0::I\n",
    "    s1::I\n",
    "end\n",
    "\n",
    "import Base: iterate\n",
    "# 起始的值跟狀態\n",
    "iterate(iter::FibonacciIterable) = iter.s0, (iter.s0, iter.s1)\n",
    "# 更新值跟狀態\n",
    "iterate(iter::FibonacciIterable, stat) = stat[2], (stat[2], stat[1]+stat[2])"
   ]
  },
  {
   "cell_type": "code",
   "execution_count": 4,
   "metadata": {},
   "outputs": [
    {
     "name": "stdout",
     "output_type": "stream",
     "text": [
      "0\n",
      "1\n",
      "1\n",
      "2\n",
      "3\n",
      "5\n",
      "8\n",
      "13\n",
      "21\n",
      "34\n",
      "55\n"
     ]
    }
   ],
   "source": [
    "# f代表每一次的值\n",
    "for f in FibonacciIterable(0, 1)\n",
    "    println(f)\n",
    "    if f > 50\n",
    "        break\n",
    "    end\n",
    "end"
   ]
  },
  {
   "cell_type": "code",
   "execution_count": 1,
   "metadata": {},
   "outputs": [
    {
     "data": {
      "text/plain": [
       "sum (generic function with 1 method)"
      ]
     },
     "execution_count": 1,
     "metadata": {},
     "output_type": "execute_result"
    }
   ],
   "source": [
    "# 品項\n",
    "abstract type Item end\n",
    "\n",
    "# 購物清單\n",
    "mutable struct OrderList\n",
    "    item_list::Vector{Item}\n",
    "    OrderList() = new(Item[])\n",
    "end\n",
    "\n",
    "struct Apple <: Item\n",
    "    price\n",
    "    Apple() = new(100)\n",
    "end\n",
    "\n",
    "struct Banana <: Item\n",
    "    price\n",
    "    Banana() = new(50)\n",
    "end\n",
    "\n",
    "# 加入清單的方法\n",
    "add!(ol::OrderList, it::Item) = push!(ol.item_list, it)\n",
    "\n",
    "# 計算總價的方法\n",
    "function sum(ol::OrderList)\n",
    "    s = 0\n",
    "    for it in ol.item_list\n",
    "        s += it.price\n",
    "    end\n",
    "    return s\n",
    "end"
   ]
  },
  {
   "cell_type": "code",
   "execution_count": 19,
   "metadata": {},
   "outputs": [
    {
     "data": {
      "text/plain": [
       "5-element Array{Item,1}:\n",
       " Apple(100)\n",
       " Apple(100)\n",
       " Apple(100)\n",
       " Banana(50)\n",
       " Banana(50)"
      ]
     },
     "execution_count": 19,
     "metadata": {},
     "output_type": "execute_result"
    }
   ],
   "source": [
    "l = OrderList()\n",
    "[add!(l, Apple()) for _ in 1:3];\n",
    "[add!(l, Banana()) for _ in 1:2];\n",
    "l.item_list"
   ]
  },
  {
   "cell_type": "code",
   "execution_count": 20,
   "metadata": {},
   "outputs": [
    {
     "data": {
      "text/plain": [
       "400"
      ]
     },
     "execution_count": 20,
     "metadata": {},
     "output_type": "execute_result"
    }
   ],
   "source": [
    "sum(l)"
   ]
  },
  {
   "cell_type": "code",
   "execution_count": null,
   "metadata": {},
   "outputs": [],
   "source": []
  }
 ],
 "metadata": {
  "@webio": {
   "lastCommId": null,
   "lastKernelId": null
  },
  "kernelspec": {
   "display_name": "Julia 1.1.0",
   "language": "julia",
   "name": "julia-1.1"
  },
  "language_info": {
   "file_extension": ".jl",
   "mimetype": "application/julia",
   "name": "julia",
   "version": "1.1.0"
  }
 },
 "nbformat": 4,
 "nbformat_minor": 2
}
