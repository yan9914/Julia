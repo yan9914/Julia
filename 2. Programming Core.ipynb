{
 "cells": [
  {
   "cell_type": "code",
   "execution_count": 1,
   "metadata": {},
   "outputs": [
    {
     "name": "stdout",
     "output_type": "stream",
     "text": [
      "x is less than y"
     ]
    }
   ],
   "source": [
    "x = 0\n",
    "y = 5\n",
    "\n",
    "if x < y\n",
    "    print(\"x is less than y\")\n",
    "end"
   ]
  },
  {
   "cell_type": "code",
   "execution_count": 2,
   "metadata": {},
   "outputs": [
    {
     "name": "stdout",
     "output_type": "stream",
     "text": [
      "x is not less to y"
     ]
    }
   ],
   "source": [
    "x = rand(1:10)\n",
    "y = 5\n",
    "\n",
    "if x < y\n",
    "    print(\"x is less than y\")\n",
    "else\n",
    "    print(\"x is not less to y\")\n",
    "end"
   ]
  },
  {
   "cell_type": "code",
   "execution_count": 3,
   "metadata": {},
   "outputs": [
    {
     "name": "stdout",
     "output_type": "stream",
     "text": [
      "x is equal to y"
     ]
    }
   ],
   "source": [
    "x = rand(1:10)\n",
    "y = 5\n",
    "\n",
    "if x < y\n",
    "    print(\"x is less than y\")\n",
    "elseif x > y\n",
    "    print(\"x is greater than y\")\n",
    "else\n",
    "    print(\"x is equal to y\")\n",
    "end"
   ]
  },
  {
   "cell_type": "code",
   "execution_count": 4,
   "metadata": {},
   "outputs": [
    {
     "name": "stdout",
     "output_type": "stream",
     "text": [
      "y wins!"
     ]
    }
   ],
   "source": [
    "#= \n",
    "猜拳遊戲\n",
    "1: 剪刀\n",
    "2: 石頭\n",
    "3: 布\n",
    "x, y 代表雙方出拳狀況\n",
    "=#\n",
    "x = rand(1:3)\n",
    "y = rand(1:3)\n",
    "\n",
    "if x == 1\n",
    "    if y == 2\n",
    "        print(\"y wins!\")\n",
    "    elseif y == 3\n",
    "        print(\"x wins!\")\n",
    "    else\n",
    "        print(\"End in a draw!\")\n",
    "    end\n",
    "elseif x == 2\n",
    "    if y == 1\n",
    "        print(\"x wins!\")\n",
    "    elseif y == 3\n",
    "        print(\"y wins!\")\n",
    "    else\n",
    "        print(\"End in a draw!\")\n",
    "    end\n",
    "else\n",
    "    if y == 1\n",
    "        print(\"y wins!\")\n",
    "    elseif y == 2\n",
    "        print(\"x wins!\")\n",
    "    else\n",
    "        print(\"End in a draw!\")\n",
    "    end\n",
    "end"
   ]
  },
  {
   "cell_type": "code",
   "execution_count": 5,
   "metadata": {},
   "outputs": [
    {
     "name": "stdout",
     "output_type": "stream",
     "text": [
      "stdin> 8\n",
      "stdin> 6\n",
      "stdin> 57\n",
      "您所輸入的三個數字分別為 : 8, 6, 57\n",
      "其中, 最大的整數為 : 57\n",
      "最小的整數為 : 6\n"
     ]
    }
   ],
   "source": [
    "x = parse(Int8, readline())\n",
    "y = parse(Int8, readline())\n",
    "z = parse(Int8, readline())\n",
    "println(\"您所輸入的三個數字分別為 : \", x, \", \", y, \", \", z)\n",
    "if x < y && x < z       # 最小的是x\n",
    "    mini = x\n",
    "    if y < z\n",
    "        maxi = z\n",
    "    else\n",
    "        maxi = y\n",
    "    end\n",
    "    println(x < y && x < z)\n",
    "elseif y < x && y < z   # 最小的是y\n",
    "    mini = y\n",
    "    if x < z\n",
    "        maxi = z\n",
    "    else\n",
    "        maxi = x\n",
    "    end\n",
    "else                    # 最小的是z\n",
    "    mini = z\n",
    "    if x < y\n",
    "        maxi = y\n",
    "    else\n",
    "        maxi = x\n",
    "    end\n",
    "end\n",
    "println(\"其中, 最大的整數為 : \", maxi)\n",
    "println(\"最小的整數為 : \", mini)"
   ]
  },
  {
   "cell_type": "code",
   "execution_count": 6,
   "metadata": {},
   "outputs": [
    {
     "name": "stdout",
     "output_type": "stream",
     "text": [
      "請輸入第1個數字:\n",
      "stdin> 5\n",
      "請輸入第2個數字:\n",
      "stdin> 8\n",
      "請輸入第3個數字:\n",
      "stdin> 6\n",
      "請輸入第4個數字:\n",
      "stdin> 2\n",
      "請輸入第5個數字:\n",
      "stdin> 10\n",
      "您輸入所有大於五的數字和為:24\n"
     ]
    }
   ],
   "source": [
    "total = 0\n",
    "for i = 1:5\n",
    "    println(\"請輸入第\", i, \"個數字:\")\n",
    "    a = parse(Int8, readline())\n",
    "    if a > 5\n",
    "        global total += a\n",
    "    end\n",
    "end\n",
    "println(\"您輸入所有大於五的數字和為:\", total)"
   ]
  },
  {
   "cell_type": "code",
   "execution_count": 7,
   "metadata": {},
   "outputs": [
    {
     "name": "stdout",
     "output_type": "stream",
     "text": [
      "stdin> 30\n",
      "465"
     ]
    }
   ],
   "source": [
    "# 請使用者輸入一個正整數, 由程式計算由 1 到該正整數的總和\n",
    "x = parse(Int8, readline())\n",
    "a = 0\n",
    "for i = 1:x\n",
    "    a += i\n",
    "end\n",
    "print(a)"
   ]
  },
  {
   "cell_type": "code",
   "execution_count": 8,
   "metadata": {},
   "outputs": [
    {
     "name": "stdout",
     "output_type": "stream",
     "text": [
      "1 x 1 = 1\t2 x 1 = 2\t3 x 1 = 3\t4 x 1 = 4\t5 x 1 = 5\t6 x 1 = 6\t7 x 1 = 7\t8 x 1 = 8\t9 x 1 = 9\t\n",
      "1 x 2 = 2\t2 x 2 = 4\t3 x 2 = 6\t4 x 2 = 8\t5 x 2 = 10\t6 x 2 = 12\t7 x 2 = 14\t8 x 2 = 16\t9 x 2 = 18\t\n",
      "1 x 3 = 3\t2 x 3 = 6\t3 x 3 = 9\t4 x 3 = 12\t5 x 3 = 15\t6 x 3 = 18\t7 x 3 = 21\t8 x 3 = 24\t9 x 3 = 27\t\n",
      "1 x 4 = 4\t2 x 4 = 8\t3 x 4 = 12\t4 x 4 = 16\t5 x 4 = 20\t6 x 4 = 24\t7 x 4 = 28\t8 x 4 = 32\t9 x 4 = 36\t\n",
      "1 x 5 = 5\t2 x 5 = 10\t3 x 5 = 15\t4 x 5 = 20\t5 x 5 = 25\t6 x 5 = 30\t7 x 5 = 35\t8 x 5 = 40\t9 x 5 = 45\t\n",
      "1 x 6 = 6\t2 x 6 = 12\t3 x 6 = 18\t4 x 6 = 24\t5 x 6 = 30\t6 x 6 = 36\t7 x 6 = 42\t8 x 6 = 48\t9 x 6 = 54\t\n",
      "1 x 7 = 7\t2 x 7 = 14\t3 x 7 = 21\t4 x 7 = 28\t5 x 7 = 35\t6 x 7 = 42\t7 x 7 = 49\t8 x 7 = 56\t9 x 7 = 63\t\n",
      "1 x 8 = 8\t2 x 8 = 16\t3 x 8 = 24\t4 x 8 = 32\t5 x 8 = 40\t6 x 8 = 48\t7 x 8 = 56\t8 x 8 = 64\t9 x 8 = 72\t\n",
      "1 x 9 = 9\t2 x 9 = 18\t3 x 9 = 27\t4 x 9 = 36\t5 x 9 = 45\t6 x 9 = 54\t7 x 9 = 63\t8 x 9 = 72\t9 x 9 = 81\t\n"
     ]
    }
   ],
   "source": [
    "# 九九乘法表\n",
    "for i = 1:9\n",
    "    for j = 1:9\n",
    "        print(j, \" x \", i, \" = \", i*j, \"\\t\")\n",
    "    end\n",
    "    println()\n",
    "end"
   ]
  },
  {
   "cell_type": "code",
   "execution_count": 9,
   "metadata": {},
   "outputs": [
    {
     "data": {
      "text/plain": [
       "101"
      ]
     },
     "execution_count": 9,
     "metadata": {},
     "output_type": "execute_result"
    }
   ],
   "source": [
    "a = 1\n",
    "while a <= 100\n",
    "    a += 2\n",
    "end\n",
    "a"
   ]
  },
  {
   "cell_type": "code",
   "execution_count": 10,
   "metadata": {},
   "outputs": [
    {
     "data": {
      "text/plain": [
       "5050"
      ]
     },
     "execution_count": 10,
     "metadata": {},
     "output_type": "execute_result"
    }
   ],
   "source": [
    "a = 0\n",
    "counter = 1\n",
    "while counter <= 100\n",
    "    global a, counter\n",
    "    a += counter\n",
    "    counter += 1\n",
    "end\n",
    "a"
   ]
  },
  {
   "cell_type": "code",
   "execution_count": 11,
   "metadata": {},
   "outputs": [
    {
     "name": "stdout",
     "output_type": "stream",
     "text": [
      "請輸入第 1 筆消費金額:\n",
      "stdin> 2300\n",
      "2300元\n",
      "請輸入第 2 筆消費金額:\n",
      "stdin> 420\n",
      "420元\n",
      "請輸入第 3 筆消費金額:\n",
      "stdin> 388\n",
      "388元\n",
      "請輸入第 4 筆消費金額:\n",
      "stdin> 5400\n",
      "5400元\n",
      "請輸入第 5 筆消費金額:\n",
      "stdin> -1\n",
      "本月消費總金額:8508, 平均每日消費金額為:283.6\n"
     ]
    }
   ],
   "source": [
    "amount = transaction = record = 0\n",
    "while record != -1\n",
    "    global transaction += 1\n",
    "    println(\"請輸入第 \", transaction, \" 筆消費金額:\")\n",
    "    global record = parse(Int64, readline())\n",
    "    if record == -1\n",
    "        break\n",
    "    else\n",
    "        println(record, \"元\")\n",
    "        global amount += record\n",
    "    end\n",
    "end\n",
    "average = amount / 30\n",
    "println(\"本月消費總金額:\", amount, \", 平均每日消費金額為:\", average)"
   ]
  },
  {
   "cell_type": "code",
   "execution_count": 12,
   "metadata": {
    "scrolled": true
   },
   "outputs": [
    {
     "name": "stdout",
     "output_type": "stream",
     "text": [
      "stdin> 50\n",
      "您猜得太大\n",
      "stdin> 25\n",
      "You win!\n"
     ]
    }
   ],
   "source": [
    "#=\n",
    "請設計一猜數字遊戲, 數字範圍設定為 1~100 ,\n",
    "系統隨機選擇正解, 且必須滿足以下條件:\n",
    "1.  系統能判斷使用者輸入的數字與正解之間的關係並且回饋給使用者,\n",
    "    如:您猜得太大 or 您猜得太小\n",
    "2.  當輸入0的時候, 可以直接結束這個遊戲\n",
    "3.  讓使用者最多可以猜五次\n",
    "=#\n",
    "sol = rand(1:100)\n",
    "time = 0\n",
    "while (x = parse(Int8, readline())) != sol\n",
    "    global time += 1\n",
    "    if time == 5\n",
    "        println(\"You lose!\")\n",
    "        break\n",
    "    elseif x < sol\n",
    "        println(\"您猜得太小\")\n",
    "    elseif x > sol\n",
    "        println(\"您猜得太大\")\n",
    "    end\n",
    "end\n",
    "if time < 5\n",
    "    println(\"You win!\")\n",
    "end"
   ]
  },
  {
   "cell_type": "code",
   "execution_count": 13,
   "metadata": {},
   "outputs": [
    {
     "data": {
      "text/plain": [
       "0-element Array{Any,1}"
      ]
     },
     "execution_count": 13,
     "metadata": {},
     "output_type": "execute_result"
    }
   ],
   "source": [
    "# 空的陣列, type為任意(Any)型別\n",
    "x = []"
   ]
  },
  {
   "cell_type": "code",
   "execution_count": 14,
   "metadata": {},
   "outputs": [
    {
     "data": {
      "text/plain": [
       "0-element Array{Any,1}"
      ]
     },
     "execution_count": 14,
     "metadata": {},
     "output_type": "execute_result"
    }
   ],
   "source": [
    "# array必須homogeneous\n",
    "Any[]"
   ]
  },
  {
   "cell_type": "code",
   "execution_count": 15,
   "metadata": {},
   "outputs": [
    {
     "data": {
      "text/plain": [
       "4-element Array{Int64,1}:\n",
       " 9\n",
       " 4\n",
       " 8\n",
       " 7"
      ]
     },
     "execution_count": 15,
     "metadata": {},
     "output_type": "execute_result"
    }
   ],
   "source": [
    "Int64[9, 4, 8, 7]"
   ]
  },
  {
   "cell_type": "code",
   "execution_count": 16,
   "metadata": {},
   "outputs": [
    {
     "data": {
      "text/plain": [
       "2-element Array{Float64,1}:\n",
       " 1.0\n",
       " 1.2"
      ]
     },
     "execution_count": 16,
     "metadata": {},
     "output_type": "execute_result"
    }
   ],
   "source": [
    "x = [1, 1.2]  # 沒指定type系統會自動判斷"
   ]
  },
  {
   "cell_type": "code",
   "execution_count": 17,
   "metadata": {},
   "outputs": [
    {
     "ename": "InexactError",
     "evalue": "InexactError: Int64(1.2)",
     "output_type": "error",
     "traceback": [
      "InexactError: Int64(1.2)",
      "",
      "Stacktrace:",
      " [1] Type at .\\float.jl:703 [inlined]",
      " [2] convert at .\\number.jl:7 [inlined]",
      " [3] setindex! at .\\array.jl:767 [inlined]",
      " [4] getindex(::Type{Int64}, ::Int64, ::Float64) at .\\array.jl:352",
      " [5] top-level scope at In[17]:1"
     ]
    }
   ],
   "source": [
    "x = Int64[1, 1.2]\n",
    "println(x)        # 型別有誤"
   ]
  },
  {
   "cell_type": "code",
   "execution_count": 18,
   "metadata": {},
   "outputs": [
    {
     "name": "stdout",
     "output_type": "stream",
     "text": [
      "1.0\t2"
     ]
    }
   ],
   "source": [
    "# indexing\n",
    "x = [1, 1.2]\n",
    "print(x[1], \"\\t\", length(x))"
   ]
  },
  {
   "cell_type": "code",
   "execution_count": 19,
   "metadata": {},
   "outputs": [
    {
     "data": {
      "text/plain": [
       "1.2"
      ]
     },
     "execution_count": 19,
     "metadata": {},
     "output_type": "execute_result"
    }
   ],
   "source": [
    "[1, 1.2][2]"
   ]
  },
  {
   "cell_type": "code",
   "execution_count": 20,
   "metadata": {},
   "outputs": [
    {
     "name": "stdout",
     "output_type": "stream",
     "text": [
      "[3.2, 7.6, 0.9]\n",
      "[7.6, 0.9, 2.3]\n",
      "[7.6, 0.9, 2.3]"
     ]
    }
   ],
   "source": [
    "x = [6, 3.2, 7.6, 0.9, 2.3]\n",
    "print(x[2:4], \"\\n\", x[3:length(x)], \"\\n\", x[3:end])"
   ]
  },
  {
   "cell_type": "code",
   "execution_count": 21,
   "metadata": {},
   "outputs": [
    {
     "data": {
      "text/plain": [
       "3-element Array{Float64,1}:\n",
       " 6.0\n",
       " 7.6\n",
       " 2.3"
      ]
     },
     "execution_count": 21,
     "metadata": {},
     "output_type": "execute_result"
    }
   ],
   "source": [
    "x = [6, 3.2, 7.6, 0.9, 2.3]\n",
    "x[1:2:5]  # [<開始>:<間隔>:<結束>]"
   ]
  },
  {
   "cell_type": "code",
   "execution_count": 22,
   "metadata": {},
   "outputs": [
    {
     "name": "stdout",
     "output_type": "stream",
     "text": [
      "[6.0, 7.5, 7.6, 0.9, 2.3]"
     ]
    }
   ],
   "source": [
    "x = [6, 3.2, 7.6, 0.9, 2.3]\n",
    "x[2] = 7.5\n",
    "print(x)"
   ]
  },
  {
   "cell_type": "code",
   "execution_count": 23,
   "metadata": {},
   "outputs": [
    {
     "name": "stdout",
     "output_type": "stream",
     "text": [
      "全班平均成績為：3.999999999999999"
     ]
    }
   ],
   "source": [
    "x = [6, 3.2, 7.6, 0.9, 2.3]\n",
    "total = 0\n",
    "\n",
    "for i = 1:length(x)\n",
    "    total += x[i]\n",
    "end\n",
    "avg = total / 5\n",
    "print(\"全班平均成績為：\", avg)"
   ]
  },
  {
   "cell_type": "code",
   "execution_count": 24,
   "metadata": {},
   "outputs": [
    {
     "ename": "BoundsError",
     "evalue": "BoundsError: attempt to access 4-element Array{Int64,1} at index [5]",
     "output_type": "error",
     "traceback": [
      "BoundsError: attempt to access 4-element Array{Int64,1} at index [5]",
      "",
      "Stacktrace:",
      " [1] setindex!(::Array{Int64,1}, ::Int64, ::Int64) at .\\array.jl:767",
      " [2] top-level scope at In[24]:3"
     ]
    }
   ],
   "source": [
    "# 不允許加入超出陣列的索引\n",
    "x = [9, 4, 8, 7]\n",
    "x[5] = 6"
   ]
  },
  {
   "cell_type": "code",
   "execution_count": 25,
   "metadata": {},
   "outputs": [
    {
     "ename": "MethodError",
     "evalue": "MethodError: Cannot `convert` an object of type String to an object of type Int64\nClosest candidates are:\n  convert(::Type{T<:Number}, !Matched::T<:Number) where T<:Number at number.jl:6\n  convert(::Type{T<:Number}, !Matched::Number) where T<:Number at number.jl:7\n  convert(::Type{T<:Integer}, !Matched::Ptr) where T<:Integer at pointer.jl:23\n  ...",
     "output_type": "error",
     "traceback": [
      "MethodError: Cannot `convert` an object of type String to an object of type Int64\nClosest candidates are:\n  convert(::Type{T<:Number}, !Matched::T<:Number) where T<:Number at number.jl:6\n  convert(::Type{T<:Number}, !Matched::Number) where T<:Number at number.jl:7\n  convert(::Type{T<:Integer}, !Matched::Ptr) where T<:Integer at pointer.jl:23\n  ...",
      "",
      "Stacktrace:",
      " [1] setindex!(::Array{Int64,1}, ::String, ::Int64) at .\\array.jl:767",
      " [2] top-level scope at In[25]:3"
     ]
    }
   ],
   "source": [
    "# 型別錯誤\n",
    "x = [5, 2, 0]\n",
    "x[3] = \"你\""
   ]
  },
  {
   "cell_type": "code",
   "execution_count": 26,
   "metadata": {},
   "outputs": [
    {
     "name": "stdout",
     "output_type": "stream",
     "text": [
      "原陣列[6.0, 3.2, 7.6]\n",
      "從尾端加入單一值：[6.0, 3.2, 7.6, 0.9]\n",
      "在開頭加入單一值：[4.0, 6.0, 3.2, 7.6, 0.9]\n",
      "陣列連接：[4.0, 6.0, 3.2, 7.6, 0.9, 2.3, 8.7]\n",
      "\n",
      "移除尾端的值\n",
      "被移除的值：8.7\n",
      "陣列變為：[4.0, 6.0, 3.2, 7.6, 0.9, 2.3]\n",
      "\n",
      "移除開頭的值\n",
      "被移除的值：4.0\n",
      "陣列變為：[6.0, 3.2, 7.6, 0.9, 2.3]\n"
     ]
    }
   ],
   "source": [
    "x = [6, 3.2, 7.6]\n",
    "println(\"原陣列\", x)\n",
    "\n",
    "x = push!(x, 0.9)\n",
    "println(\"從尾端加入單一值：\", x)\n",
    "\n",
    "x = pushfirst!(x, 4)\n",
    "println(\"在開頭加入單一值：\", x)\n",
    "\n",
    "y = [2.3, 8.7]\n",
    "x = append!(x, y)\n",
    "println(\"陣列連接：\", x)\n",
    "\n",
    "println(\"\\n移除尾端的值\\n\", \"被移除的值：\", pop!(x), \"\\n陣列變為：\", x)\n",
    "\n",
    "println(\"\\n移除開頭的值\\n\", \"被移除的值：\", popfirst!(x), \"\\n陣列變為：\", x)\n",
    "\n"
   ]
  },
  {
   "cell_type": "code",
   "execution_count": 27,
   "metadata": {},
   "outputs": [
    {
     "data": {
      "text/plain": [
       "7-element Array{Any,1}:\n",
       "  4\n",
       "  5\n",
       "  6\n",
       "  7\n",
       "  8\n",
       "  9\n",
       " 10"
      ]
     },
     "execution_count": 27,
     "metadata": {},
     "output_type": "execute_result"
    }
   ],
   "source": [
    "A = [1, 2, 3, 4, 5, 6, 7, 8, 9, 10]\n",
    "B = []\n",
    "for x in A\n",
    "    if x^2 > 10\n",
    "        push!(B, x)\n",
    "    end\n",
    "end\n",
    "B"
   ]
  },
  {
   "cell_type": "code",
   "execution_count": 28,
   "metadata": {},
   "outputs": [
    {
     "name": "stdout",
     "output_type": "stream",
     "text": [
      "請輸入第 1 位學生的成績\n",
      "stdin> 87\n",
      "請輸入第 2 位學生的成績\n",
      "stdin> 64\n",
      "請輸入第 3 位學生的成績\n",
      "stdin> 98\n",
      "請輸入第 4 位學生的成績\n",
      "stdin> 70\n",
      "請輸入第 5 位學生的成績\n",
      "stdin> 66\n",
      "全班成績細項：[87.0, 64.0, 98.0, 70.0, 66.0]\n",
      "全班人數：5 人\n",
      "全班平均成績為：77.0\n"
     ]
    }
   ],
   "source": [
    "score = Float64[]\n",
    "input = total = 0\n",
    "i = 1\n",
    "\n",
    "while true\n",
    "    println(\"請輸入第 \", i, \" 位學生的成績\")\n",
    "    global input = parse(Float64, readline())\n",
    "    push!(score, input)\n",
    "    global total += input\n",
    "    if i == 5\n",
    "        break\n",
    "    else\n",
    "        i += 1\n",
    "    end\n",
    "end\n",
    "\n",
    "println(\"全班成績細項：\", score)\n",
    "println(\"全班人數：\", i, \" 人\")\n",
    "println(\"全班平均成績為：\", total/i)"
   ]
  },
  {
   "cell_type": "code",
   "execution_count": 29,
   "metadata": {},
   "outputs": [
    {
     "data": {
      "text/plain": [
       "10-element Array{Int64,1}:\n",
       " -1\n",
       " -1\n",
       " -1\n",
       " -1\n",
       "  5\n",
       "  6\n",
       "  7\n",
       "  8\n",
       "  9\n",
       " 10"
      ]
     },
     "execution_count": 29,
     "metadata": {},
     "output_type": "execute_result"
    }
   ],
   "source": [
    "# 小於5的元素用-1取代\n",
    "A = [1, 2, 3, 4, 5, 6, 7, 8, 9, 10]\n",
    "for i in 1:length(A)\n",
    "    if A[i] < 5\n",
    "        A[i] = -1\n",
    "    end\n",
    "end\n",
    "A"
   ]
  },
  {
   "cell_type": "code",
   "execution_count": 30,
   "metadata": {},
   "outputs": [
    {
     "data": {
      "text/plain": [
       "7-element Array{Int64,1}:\n",
       " 2\n",
       " 4\n",
       " 6\n",
       " 7\n",
       " 8\n",
       " 9\n",
       " 9"
      ]
     },
     "execution_count": 30,
     "metadata": {},
     "output_type": "execute_result"
    }
   ],
   "source": [
    "# 氣泡排序法 (Bubble sort)\n",
    "x = [9, 4, 8, 7, 9, 2, 6]\n",
    "\n",
    "n = length(x)\n",
    "for i in 1:n\n",
    "    for j in 1 : n-i\n",
    "        if x[j] > x[j+1]\n",
    "            k = x[j]\n",
    "            x[j] = x[j+1]\n",
    "            x[j+1] = k\n",
    "        end\n",
    "    end\n",
    "end\n",
    "\n",
    "x"
   ]
  },
  {
   "cell_type": "code",
   "execution_count": 31,
   "metadata": {},
   "outputs": [
    {
     "name": "stdout",
     "output_type": "stream",
     "text": [
      "原集合 : Set([4, 2, 3, 1])\n",
      "\n",
      "增加元素 : Set([4, 2, 3, 5, 1])\n",
      "\n",
      "3是否在集合裡 : true\n"
     ]
    }
   ],
   "source": [
    "# 集合, 無序且各元素唯一\n",
    "\n",
    "x = Set([1, 2, 3, 4])\n",
    "println(\"原集合 : \", x)\n",
    "\n",
    "x = push!(x, 5)\n",
    "println(\"\\n增加元素 : \", x)\n",
    "\n",
    "println(\"\\n3是否在集合裡 : \", 3 in x)"
   ]
  },
  {
   "cell_type": "code",
   "execution_count": 32,
   "metadata": {},
   "outputs": [
    {
     "name": "stdout",
     "output_type": "stream",
     "text": [
      "y是否為x的子集 : true\n",
      "\n",
      "交集 : Set([3, 5, 1])\n",
      "聯集 : Set([7, 4, 2, 3, 5, 8, 1])\n",
      "差集 : Set([4, 2])\n"
     ]
    }
   ],
   "source": [
    "y = Set([1, 3, 5])\n",
    "println(\"y是否為x的子集 : \", issubset(y, x), \"\\n\")\n",
    "\n",
    "y = Set([1, 3, 5, 7, 8])\n",
    "println(\"交集 : \", intersect(x,y))\n",
    "println(\"聯集 : \", union(x,y))\n",
    "println(\"差集 : \", setdiff(x,y))"
   ]
  },
  {
   "cell_type": "code",
   "execution_count": 33,
   "metadata": {},
   "outputs": [
    {
     "name": "stdout",
     "output_type": "stream",
     "text": [
      "4\n",
      "2\n",
      "3\n",
      "5\n",
      "1\n"
     ]
    }
   ],
   "source": [
    "# 不保證為輸入時的順序\n",
    "for i in x\n",
    "    println(i)\n",
    "end"
   ]
  },
  {
   "cell_type": "code",
   "execution_count": 34,
   "metadata": {},
   "outputs": [
    {
     "name": "stdout",
     "output_type": "stream",
     "text": [
      "字元用單引號 : Char\n",
      "字串用雙引號 : String\n"
     ]
    }
   ],
   "source": [
    "# 字串是字元的集合容器, 具不可變的性質\n",
    "println(\"字元用單引號 : \", typeof('A'))\n",
    "println(\"字串用雙引號 : \", typeof(\"A\"))"
   ]
  },
  {
   "cell_type": "code",
   "execution_count": 35,
   "metadata": {},
   "outputs": [
    {
     "data": {
      "text/plain": [
       "65"
      ]
     },
     "execution_count": 35,
     "metadata": {},
     "output_type": "execute_result"
    }
   ],
   "source": [
    "# 字元有相對應的整數, 可做加減法\n",
    "Int('A')"
   ]
  },
  {
   "cell_type": "code",
   "execution_count": 36,
   "metadata": {},
   "outputs": [
    {
     "data": {
      "text/plain": [
       "66"
      ]
     },
     "execution_count": 36,
     "metadata": {},
     "output_type": "execute_result"
    }
   ],
   "source": [
    "Int('B')"
   ]
  },
  {
   "cell_type": "code",
   "execution_count": 37,
   "metadata": {},
   "outputs": [
    {
     "data": {
      "text/plain": [
       "'D': ASCII/Unicode U+0044 (category Lu: Letter, uppercase)"
      ]
     },
     "execution_count": 37,
     "metadata": {},
     "output_type": "execute_result"
    }
   ],
   "source": [
    "'A' + 3"
   ]
  },
  {
   "cell_type": "code",
   "execution_count": 38,
   "metadata": {},
   "outputs": [
    {
     "ename": "MethodError",
     "evalue": "MethodError: no method matching +(::Char, ::Char)\nClosest candidates are:\n  +(::Any, ::Any, !Matched::Any, !Matched::Any...) at operators.jl:502\n  +(!Matched::Integer, ::AbstractChar) at char.jl:224\n  +(::T<:AbstractChar, !Matched::Integer) where T<:AbstractChar at char.jl:223",
     "output_type": "error",
     "traceback": [
      "MethodError: no method matching +(::Char, ::Char)\nClosest candidates are:\n  +(::Any, ::Any, !Matched::Any, !Matched::Any...) at operators.jl:502\n  +(!Matched::Integer, ::AbstractChar) at char.jl:224\n  +(::T<:AbstractChar, !Matched::Integer) where T<:AbstractChar at char.jl:223",
      "",
      "Stacktrace:",
      " [1] top-level scope at In[38]:1"
     ]
    }
   ],
   "source": [
    "'a' + 'a'  # 字元對字元不能用加法"
   ]
  },
  {
   "cell_type": "code",
   "execution_count": 39,
   "metadata": {},
   "outputs": [
    {
     "data": {
      "text/plain": [
       "32"
      ]
     },
     "execution_count": 39,
     "metadata": {},
     "output_type": "execute_result"
    }
   ],
   "source": [
    "'a' - 'A'"
   ]
  },
  {
   "cell_type": "code",
   "execution_count": 40,
   "metadata": {},
   "outputs": [
    {
     "data": {
      "text/plain": [
       "\"Hello World!\""
      ]
     },
     "execution_count": 40,
     "metadata": {},
     "output_type": "execute_result"
    }
   ],
   "source": [
    "x = \"Hello World!\""
   ]
  },
  {
   "cell_type": "code",
   "execution_count": 41,
   "metadata": {},
   "outputs": [
    {
     "name": "stdout",
     "output_type": "stream",
     "text": [
      "H\n"
     ]
    },
    {
     "ename": "MethodError",
     "evalue": "MethodError: no method matching setindex!(::String, ::Char, ::Int64)",
     "output_type": "error",
     "traceback": [
      "MethodError: no method matching setindex!(::String, ::Char, ::Int64)",
      "",
      "Stacktrace:",
      " [1] top-level scope at In[41]:2"
     ]
    }
   ],
   "source": [
    "println(x[1])\n",
    "x[1] = 'W'  # 不可修改"
   ]
  },
  {
   "cell_type": "code",
   "execution_count": 42,
   "metadata": {},
   "outputs": [
    {
     "data": {
      "text/plain": [
       "\"Hello\\nWorld\\n!\\n\""
      ]
     },
     "execution_count": 42,
     "metadata": {},
     "output_type": "execute_result"
    }
   ],
   "source": [
    "# 3個雙引號 : 多行字串\n",
    "\"\"\"Hello\n",
    "World\n",
    "!\n",
    "\"\"\""
   ]
  },
  {
   "cell_type": "code",
   "execution_count": 43,
   "metadata": {},
   "outputs": [
    {
     "data": {
      "text/plain": [
       "\"∀ x ∃ y\""
      ]
     },
     "execution_count": 43,
     "metadata": {},
     "output_type": "execute_result"
    }
   ],
   "source": [
    "# 遇到含有Unicode字串, indexing較麻煩\n",
    "s = \"\\u2200 x \\U2203 y\""
   ]
  },
  {
   "cell_type": "code",
   "execution_count": 44,
   "metadata": {},
   "outputs": [
    {
     "data": {
      "text/plain": [
       "'∀': Unicode U+2200 (category Sm: Symbol, math)"
      ]
     },
     "execution_count": 44,
     "metadata": {},
     "output_type": "execute_result"
    }
   ],
   "source": [
    "s[1]"
   ]
  },
  {
   "cell_type": "code",
   "execution_count": 45,
   "metadata": {},
   "outputs": [
    {
     "ename": "StringIndexError",
     "evalue": "StringIndexError(\"∀ x ∃ y\", 2)",
     "output_type": "error",
     "traceback": [
      "StringIndexError(\"∀ x ∃ y\", 2)",
      "",
      "Stacktrace:",
      " [1] string_index_err(::String, ::Int64) at .\\strings\\string.jl:12",
      " [2] getindex_continued(::String, ::Int64, ::UInt32) at .\\strings\\string.jl:218",
      " [3] getindex(::String, ::Int64) at .\\strings\\string.jl:211",
      " [4] top-level scope at In[45]:1"
     ]
    }
   ],
   "source": [
    "s[2]"
   ]
  },
  {
   "cell_type": "code",
   "execution_count": 46,
   "metadata": {},
   "outputs": [
    {
     "ename": "StringIndexError",
     "evalue": "StringIndexError(\"∀ x ∃ y\", 3)",
     "output_type": "error",
     "traceback": [
      "StringIndexError(\"∀ x ∃ y\", 3)",
      "",
      "Stacktrace:",
      " [1] string_index_err(::String, ::Int64) at .\\strings\\string.jl:12",
      " [2] getindex_continued(::String, ::Int64, ::UInt32) at .\\strings\\string.jl:218",
      " [3] getindex(::String, ::Int64) at .\\strings\\string.jl:211",
      " [4] top-level scope at In[46]:1"
     ]
    }
   ],
   "source": [
    "s[3]"
   ]
  },
  {
   "cell_type": "code",
   "execution_count": 47,
   "metadata": {},
   "outputs": [
    {
     "data": {
      "text/plain": [
       "4"
      ]
     },
     "execution_count": 47,
     "metadata": {},
     "output_type": "execute_result"
    }
   ],
   "source": [
    "nextind(s, 1)  # 取得下一個字元的index"
   ]
  },
  {
   "cell_type": "code",
   "execution_count": 48,
   "metadata": {},
   "outputs": [
    {
     "data": {
      "text/plain": [
       "' ': ASCII/Unicode U+0020 (category Zs: Separator, space)"
      ]
     },
     "execution_count": 48,
     "metadata": {},
     "output_type": "execute_result"
    }
   ],
   "source": [
    "s[4]"
   ]
  },
  {
   "cell_type": "code",
   "execution_count": 49,
   "metadata": {},
   "outputs": [
    {
     "data": {
      "text/plain": [
       "7"
      ]
     },
     "execution_count": 49,
     "metadata": {},
     "output_type": "execute_result"
    }
   ],
   "source": [
    "length(s)   # 查看字元數"
   ]
  },
  {
   "cell_type": "code",
   "execution_count": 50,
   "metadata": {},
   "outputs": [
    {
     "data": {
      "text/plain": [
       "\"1 + 1 = 2, 小孩子都知道\""
      ]
     },
     "execution_count": 50,
     "metadata": {},
     "output_type": "execute_result"
    }
   ],
   "source": [
    "# 字串連接\n",
    "x = \"1 + 1\"\n",
    "x * \" = 2\" * \", 小孩子都知道\""
   ]
  },
  {
   "cell_type": "code",
   "execution_count": 51,
   "metadata": {},
   "outputs": [
    {
     "data": {
      "text/plain": [
       "\"Today is Sunday\""
      ]
     },
     "execution_count": 51,
     "metadata": {},
     "output_type": "execute_result"
    }
   ],
   "source": [
    "# 或者使用string來連接\n",
    "x = \"Today\"\n",
    "y = \"Sunday\"\n",
    "string(x, \" is \", y)"
   ]
  },
  {
   "cell_type": "code",
   "execution_count": 52,
   "metadata": {},
   "outputs": [
    {
     "data": {
      "text/plain": [
       "\"Today is Sunday\""
      ]
     },
     "execution_count": 52,
     "metadata": {},
     "output_type": "execute_result"
    }
   ],
   "source": [
    "# 字串內插\n",
    "\"$x is $y\""
   ]
  },
  {
   "cell_type": "code",
   "execution_count": 53,
   "metadata": {},
   "outputs": [
    {
     "data": {
      "text/plain": [
       "\"1 + 2 = 3\""
      ]
     },
     "execution_count": 53,
     "metadata": {},
     "output_type": "execute_result"
    }
   ],
   "source": [
    "# $後可放變數名稱, 或者$(運算式)\n",
    "\"1 + 2 = $(1 + 2)\""
   ]
  },
  {
   "cell_type": "code",
   "execution_count": 54,
   "metadata": {},
   "outputs": [
    {
     "data": {
      "text/plain": [
       "6-element Array{SubString{String},1}:\n",
       " \"1\"\n",
       " \"2\"\n",
       " \"3\"\n",
       " \"4\"\n",
       " \"5\"\n",
       " \"6\""
      ]
     },
     "execution_count": 54,
     "metadata": {},
     "output_type": "execute_result"
    }
   ],
   "source": [
    "# split分割字串\n",
    "split(\"1,2,3,4,5,6\", \",\")"
   ]
  },
  {
   "cell_type": "code",
   "execution_count": 55,
   "metadata": {},
   "outputs": [
    {
     "data": {
      "text/plain": [
       "\"apples, bananas, pineapples\""
      ]
     },
     "execution_count": 55,
     "metadata": {},
     "output_type": "execute_result"
    }
   ],
   "source": [
    "# join串接字串\n",
    "join([\"apples\", \"bananas\", \"pineapples\"], \", \")"
   ]
  },
  {
   "cell_type": "code",
   "execution_count": 56,
   "metadata": {},
   "outputs": [
    {
     "data": {
      "text/plain": [
       "\"apples, bananas and pineapples\""
      ]
     },
     "execution_count": 56,
     "metadata": {},
     "output_type": "execute_result"
    }
   ],
   "source": [
    "# 可是用兩個以上的連接符, 輪著使用\n",
    "join([\"apples\", \"bananas\", \"pineapples\"], \", \", \" and \")"
   ]
  },
  {
   "cell_type": "code",
   "execution_count": 57,
   "metadata": {},
   "outputs": [
    {
     "data": {
      "text/plain": [
       "\"1,2,3,4,5\""
      ]
     },
     "execution_count": 57,
     "metadata": {},
     "output_type": "execute_result"
    }
   ],
   "source": [
    "# 字串取代\n",
    "replace(\"1 2 3 4 5\", \" \" => \",\")"
   ]
  },
  {
   "cell_type": "code",
   "execution_count": 58,
   "metadata": {},
   "outputs": [
    {
     "data": {
      "text/plain": [
       "true"
      ]
     },
     "execution_count": 58,
     "metadata": {},
     "output_type": "execute_result"
    }
   ],
   "source": [
    "# occursin是否為子字串\n",
    "occursin(\"na\", \"banana\")"
   ]
  },
  {
   "cell_type": "code",
   "execution_count": 59,
   "metadata": {},
   "outputs": [
    {
     "data": {
      "text/plain": [
       "\"very very very good\""
      ]
     },
     "execution_count": 59,
     "metadata": {},
     "output_type": "execute_result"
    }
   ],
   "source": [
    "# repeat字串重複\n",
    "repeat(\"very \", 3) * \"good\""
   ]
  },
  {
   "cell_type": "code",
   "execution_count": 60,
   "metadata": {},
   "outputs": [
    {
     "data": {
      "text/plain": [
       "\"1, 2, 3, 4\\n5, 6, 7, 8\\n9, 10, 11, 12\""
      ]
     },
     "execution_count": 60,
     "metadata": {},
     "output_type": "execute_result"
    }
   ],
   "source": [
    "# 文字處理範例\n",
    "matrix = \"\"\"1, 2, 3, 4\n",
    "5, 6, 7, 8\n",
    "9, 10, 11, 12\"\"\""
   ]
  },
  {
   "cell_type": "code",
   "execution_count": 61,
   "metadata": {},
   "outputs": [
    {
     "name": "stdout",
     "output_type": "stream",
     "text": [
      "解析的結果 : Int8[1, 2, 3, 4, 5, 6, 7, 8, 9, 10, 11, 12]\n"
     ]
    }
   ],
   "source": [
    "A = replace(matrix, \"\\n\" => \", \")\n",
    "A = split(A, \", \")\n",
    "result = Int8[]\n",
    "for k in A\n",
    "    append!(result, parse(Int8, k))\n",
    "end\n",
    "\n",
    "println(\"解析的結果 : \", result)"
   ]
  },
  {
   "cell_type": "code",
   "execution_count": 62,
   "metadata": {},
   "outputs": [
    {
     "data": {
      "text/plain": [
       "Dict{String,Int64} with 3 entries:\n",
       "  \"B\" => 2\n",
       "  \"A\" => 1\n",
       "  \"C\" => 3"
      ]
     },
     "execution_count": 62,
     "metadata": {},
     "output_type": "execute_result"
    }
   ],
   "source": [
    "# 字典, 無序\n",
    "x = Dict(\"A\" => 1, \"B\" => 2, \"C\" => 3)"
   ]
  },
  {
   "cell_type": "code",
   "execution_count": 63,
   "metadata": {},
   "outputs": [
    {
     "data": {
      "text/plain": [
       "1"
      ]
     },
     "execution_count": 63,
     "metadata": {},
     "output_type": "execute_result"
    }
   ],
   "source": [
    "x[\"A\"]"
   ]
  },
  {
   "cell_type": "code",
   "execution_count": 64,
   "metadata": {},
   "outputs": [
    {
     "ename": "KeyError",
     "evalue": "KeyError: key \"D\" not found",
     "output_type": "error",
     "traceback": [
      "KeyError: key \"D\" not found",
      "",
      "Stacktrace:",
      " [1] getindex(::Dict{String,Int64}, ::String) at .\\dict.jl:478",
      " [2] top-level scope at In[64]:1"
     ]
    }
   ],
   "source": [
    "x[\"D\"]"
   ]
  },
  {
   "cell_type": "code",
   "execution_count": 65,
   "metadata": {},
   "outputs": [
    {
     "data": {
      "text/plain": [
       "Dict{String,Int64} with 4 entries:\n",
       "  \"B\" => 2\n",
       "  \"A\" => 2\n",
       "  \"C\" => 3\n",
       "  \"D\" => 4"
      ]
     },
     "execution_count": 65,
     "metadata": {},
     "output_type": "execute_result"
    }
   ],
   "source": [
    "# 增加及複寫字典\n",
    "x[\"D\"] = 4\n",
    "x[\"A\"] = 2\n",
    "x"
   ]
  },
  {
   "cell_type": "code",
   "execution_count": 66,
   "metadata": {},
   "outputs": [
    {
     "data": {
      "text/plain": [
       "Dict{String,Any} with 2 entries:\n",
       "  \"B\" => 2\n",
       "  \"A\" => [9, 8, 7]"
      ]
     },
     "execution_count": 66,
     "metadata": {},
     "output_type": "execute_result"
    }
   ],
   "source": [
    "x = Dict(\"A\" => [9, 8, 7], \"B\" => 2)"
   ]
  },
  {
   "cell_type": "code",
   "execution_count": 67,
   "metadata": {},
   "outputs": [
    {
     "data": {
      "text/plain": [
       "9"
      ]
     },
     "execution_count": 67,
     "metadata": {},
     "output_type": "execute_result"
    }
   ],
   "source": [
    "x[\"A\"][1]"
   ]
  },
  {
   "cell_type": "code",
   "execution_count": 68,
   "metadata": {},
   "outputs": [
    {
     "data": {
      "text/plain": [
       "5"
      ]
     },
     "execution_count": 68,
     "metadata": {},
     "output_type": "execute_result"
    }
   ],
   "source": [
    "x[\"A\"][1] = 5"
   ]
  },
  {
   "cell_type": "code",
   "execution_count": 69,
   "metadata": {},
   "outputs": [
    {
     "data": {
      "text/plain": [
       "Dict{String,Any} with 2 entries:\n",
       "  \"B\" => 2\n",
       "  \"A\" => [5, 8, 7]"
      ]
     },
     "execution_count": 69,
     "metadata": {},
     "output_type": "execute_result"
    }
   ],
   "source": [
    "x"
   ]
  },
  {
   "cell_type": "code",
   "execution_count": 70,
   "metadata": {},
   "outputs": [
    {
     "name": "stdout",
     "output_type": "stream",
     "text": [
      "B -> 2\n",
      "A -> 1\n",
      "C -> 3\n"
     ]
    }
   ],
   "source": [
    "# 迭代\n",
    "x = Dict(\"A\" => 1, \"B\" => 2, \"C\" => 3)\n",
    "for (k, v) in x\n",
    "    println(k, \" -> \", v)\n",
    "end"
   ]
  },
  {
   "cell_type": "code",
   "execution_count": 71,
   "metadata": {},
   "outputs": [
    {
     "data": {
      "text/plain": [
       "f (generic function with 1 method)"
      ]
     },
     "execution_count": 71,
     "metadata": {},
     "output_type": "execute_result"
    }
   ],
   "source": [
    "## 函數\n",
    "function f(x, y)\n",
    "    return x + y\n",
    "end"
   ]
  },
  {
   "cell_type": "code",
   "execution_count": 72,
   "metadata": {},
   "outputs": [
    {
     "data": {
      "text/plain": [
       "3"
      ]
     },
     "execution_count": 72,
     "metadata": {},
     "output_type": "execute_result"
    }
   ],
   "source": [
    "f(1, 2)"
   ]
  },
  {
   "cell_type": "code",
   "execution_count": 73,
   "metadata": {},
   "outputs": [
    {
     "data": {
      "text/plain": [
       "6"
      ]
     },
     "execution_count": 73,
     "metadata": {},
     "output_type": "execute_result"
    }
   ],
   "source": [
    "f(f(1, 2), 3)"
   ]
  },
  {
   "cell_type": "code",
   "execution_count": 74,
   "metadata": {},
   "outputs": [
    {
     "data": {
      "text/plain": [
       "h (generic function with 1 method)"
      ]
     },
     "execution_count": 74,
     "metadata": {},
     "output_type": "execute_result"
    }
   ],
   "source": [
    "# 單行宣告函數\n",
    "h(x, y) = x + y"
   ]
  },
  {
   "cell_type": "code",
   "execution_count": 75,
   "metadata": {},
   "outputs": [
    {
     "data": {
      "text/plain": [
       "3"
      ]
     },
     "execution_count": 75,
     "metadata": {},
     "output_type": "execute_result"
    }
   ],
   "source": [
    "h(1, 2)"
   ]
  },
  {
   "cell_type": "code",
   "execution_count": 76,
   "metadata": {},
   "outputs": [
    {
     "data": {
      "text/plain": [
       "g (generic function with 1 method)"
      ]
     },
     "execution_count": 76,
     "metadata": {},
     "output_type": "execute_result"
    }
   ],
   "source": [
    "# 指定type有助於運算效率\n",
    "# 格式如 : <參數>::<型別>\n",
    "# 回傳值的型別加在括號後 : (...)::<型別>\n",
    "function g(x::Int64, y::Int64)::Int64\n",
    "    return x + y\n",
    "end"
   ]
  },
  {
   "cell_type": "code",
   "execution_count": 77,
   "metadata": {},
   "outputs": [
    {
     "data": {
      "text/plain": [
       "3"
      ]
     },
     "execution_count": 77,
     "metadata": {},
     "output_type": "execute_result"
    }
   ],
   "source": [
    "g(1, 2)"
   ]
  },
  {
   "cell_type": "code",
   "execution_count": 78,
   "metadata": {},
   "outputs": [
    {
     "ename": "MethodError",
     "evalue": "MethodError: no method matching g(::Float64, ::Float64)",
     "output_type": "error",
     "traceback": [
      "MethodError: no method matching g(::Float64, ::Float64)",
      "",
      "Stacktrace:",
      " [1] top-level scope at In[78]:1"
     ]
    }
   ],
   "source": [
    "g(1.2, 2.3)  # 型別錯誤"
   ]
  },
  {
   "cell_type": "code",
   "execution_count": 79,
   "metadata": {},
   "outputs": [
    {
     "data": {
      "text/plain": [
       "g1 (generic function with 1 method)"
      ]
     },
     "execution_count": 79,
     "metadata": {},
     "output_type": "execute_result"
    }
   ],
   "source": [
    "# 廣義的數值用 Number\n",
    "# 實數用 Real\n",
    "function g1(x::Real, y::Real)::Real\n",
    "    return x + y\n",
    "end"
   ]
  },
  {
   "cell_type": "code",
   "execution_count": 80,
   "metadata": {},
   "outputs": [
    {
     "data": {
      "text/plain": [
       "5.45"
      ]
     },
     "execution_count": 80,
     "metadata": {},
     "output_type": "execute_result"
    }
   ],
   "source": [
    "g1(2, 3.45)"
   ]
  },
  {
   "cell_type": "code",
   "execution_count": 81,
   "metadata": {},
   "outputs": [
    {
     "name": "stdout",
     "output_type": "stream",
     "text": [
      "11967854120867199718\n",
      "11967854120867199718\n",
      "11967854120867199718\n",
      "5352850025288631388\n"
     ]
    },
    {
     "data": {
      "text/plain": [
       "1"
      ]
     },
     "execution_count": 81,
     "metadata": {},
     "output_type": "execute_result"
    }
   ],
   "source": [
    "# julia採用pass-by-sharing的參數傳遞機制 (p6.9)\n",
    "println(objectid(1))\n",
    "x = 1\n",
    "println(objectid(x))\n",
    "\n",
    "function sharing(x)\n",
    "    println(objectid(x))\n",
    "    x = 2\n",
    "    println(objectid(x))\n",
    "end\n",
    "\n",
    "sharing(x)\n",
    "x  # 外部不變"
   ]
  },
  {
   "cell_type": "code",
   "execution_count": 82,
   "metadata": {},
   "outputs": [
    {
     "name": "stdout",
     "output_type": "stream",
     "text": [
      "11967854120867199718\n",
      "11967854120867199718\n",
      "11967854120867199718\n",
      "11967854120867199718\n"
     ]
    }
   ],
   "source": [
    "# 所有的1都來自同一處記憶體\n",
    "x = 1\n",
    "y = 1\n",
    "println(objectid(1))\n",
    "println(objectid(x))\n",
    "println(objectid(y))\n",
    "println(objectid(2-1))"
   ]
  },
  {
   "cell_type": "code",
   "execution_count": 83,
   "metadata": {},
   "outputs": [
    {
     "data": {
      "text/plain": [
       "21"
      ]
     },
     "execution_count": 83,
     "metadata": {},
     "output_type": "execute_result"
    }
   ],
   "source": [
    "# 運算子就是一種函數\n",
    "+(1, 2, 3, 4, 5, 6)"
   ]
  },
  {
   "cell_type": "code",
   "execution_count": 84,
   "metadata": {},
   "outputs": [
    {
     "data": {
      "text/plain": [
       "15"
      ]
     },
     "execution_count": 84,
     "metadata": {},
     "output_type": "execute_result"
    }
   ],
   "source": [
    "# 用 -> 建構匿名函數\n",
    "function f(FUN, a, b)\n",
    "    return FUN(a, b)\n",
    "end\n",
    "\n",
    "# 有時函數也需要指派為變數, 此時可用匿名函數\n",
    "f((x, y) -> x * y, 3, 5)"
   ]
  },
  {
   "cell_type": "code",
   "execution_count": 85,
   "metadata": {},
   "outputs": [
    {
     "data": {
      "text/plain": [
       "(1, 2, 3)"
      ]
     },
     "execution_count": 85,
     "metadata": {},
     "output_type": "execute_result"
    }
   ],
   "source": [
    "# tuple(數組)多用於打包參數\n",
    "x = (1, 2, 3)\n",
    "# 某些情況下可省略小括號, 但在for迴圈不行\n",
    "x = 1, 2, 3"
   ]
  },
  {
   "cell_type": "code",
   "execution_count": 86,
   "metadata": {},
   "outputs": [
    {
     "data": {
      "text/plain": [
       "1"
      ]
     },
     "execution_count": 86,
     "metadata": {},
     "output_type": "execute_result"
    }
   ],
   "source": [
    "x[1]"
   ]
  },
  {
   "cell_type": "code",
   "execution_count": 87,
   "metadata": {},
   "outputs": [
    {
     "data": {
      "text/plain": [
       "(2, 3)"
      ]
     },
     "execution_count": 87,
     "metadata": {},
     "output_type": "execute_result"
    }
   ],
   "source": [
    "x[2:3]"
   ]
  },
  {
   "cell_type": "code",
   "execution_count": 88,
   "metadata": {},
   "outputs": [
    {
     "data": {
      "text/plain": [
       "(1, 1.2, 'D', \"ABC123\", true)"
      ]
     },
     "execution_count": 88,
     "metadata": {},
     "output_type": "execute_result"
    }
   ],
   "source": [
    "#　允許不同型別的元素\n",
    "y = (1, 1.2, 'D', \"ABC123\", true)"
   ]
  },
  {
   "cell_type": "code",
   "execution_count": 89,
   "metadata": {},
   "outputs": [
    {
     "data": {
      "text/plain": [
       "Tuple{Int64,Float64,Char,String,Bool}"
      ]
     },
     "execution_count": 89,
     "metadata": {},
     "output_type": "execute_result"
    }
   ],
   "source": [
    "typeof(y)"
   ]
  },
  {
   "cell_type": "code",
   "execution_count": 90,
   "metadata": {},
   "outputs": [
    {
     "ename": "MethodError",
     "evalue": "MethodError: no method matching setindex!(::Tuple{Int64,Int64,Int64}, ::Int64, ::Int64)",
     "output_type": "error",
     "traceback": [
      "MethodError: no method matching setindex!(::Tuple{Int64,Int64,Int64}, ::Int64, ::Int64)",
      "",
      "Stacktrace:",
      " [1] top-level scope at In[90]:1"
     ]
    }
   ],
   "source": [
    "# tuple有不可變性\n",
    "x[1] = 3"
   ]
  },
  {
   "cell_type": "code",
   "execution_count": 91,
   "metadata": {},
   "outputs": [
    {
     "name": "stdout",
     "output_type": "stream",
     "text": [
      "a = 1\n",
      "b = 2\n",
      "c = 3\n"
     ]
    }
   ],
   "source": [
    "# 解開tuple\n",
    "a, b, c = x\n",
    "println(\"a = \", a)\n",
    "println(\"b = \", b)\n",
    "println(\"c = \", c)"
   ]
  },
  {
   "cell_type": "code",
   "execution_count": 92,
   "metadata": {},
   "outputs": [
    {
     "name": "stdout",
     "output_type": "stream",
     "text": [
      "a = 2\n",
      "b = 1\n"
     ]
    }
   ],
   "source": [
    "# 交換\n",
    "b, a = a, b\n",
    "println(\"a = \", a)\n",
    "println(\"b = \", b)"
   ]
  },
  {
   "cell_type": "code",
   "execution_count": 93,
   "metadata": {},
   "outputs": [
    {
     "data": {
      "text/plain": [
       "3-element Array{Tuple{Int64,Int64},1}:\n",
       " (1, 2)\n",
       " (3, 4)\n",
       " (5, 6)"
      ]
     },
     "execution_count": 93,
     "metadata": {},
     "output_type": "execute_result"
    }
   ],
   "source": [
    "x = [(1, 2), (3, 4), (5, 6)]"
   ]
  },
  {
   "cell_type": "code",
   "execution_count": 94,
   "metadata": {},
   "outputs": [
    {
     "name": "stdout",
     "output_type": "stream",
     "text": [
      "12\n",
      "34\n",
      "56\n"
     ]
    }
   ],
   "source": [
    "for (i, j) in x\n",
    "    println(i, j)\n",
    "end"
   ]
  },
  {
   "cell_type": "code",
   "execution_count": 95,
   "metadata": {},
   "outputs": [
    {
     "ename": "LoadError",
     "evalue": "syntax: invalid iteration specification",
     "output_type": "error",
     "traceback": [
      "syntax: invalid iteration specification",
      ""
     ]
    }
   ],
   "source": [
    "# 不能省略小括號\n",
    "for i, j in x\n",
    "    println(i, j)\n",
    "end"
   ]
  },
  {
   "cell_type": "code",
   "execution_count": 96,
   "metadata": {},
   "outputs": [
    {
     "data": {
      "text/plain": [
       "shuffle_ (generic function with 1 method)"
      ]
     },
     "execution_count": 96,
     "metadata": {},
     "output_type": "execute_result"
    }
   ],
   "source": [
    "# 若函數省略return, 則會回傳最後一行的運算式\n",
    "# 希望回傳多個結果, 可用tuple包起來\n",
    "function shuffle_(x, y, z)\n",
    "    (y, z, x)\n",
    "end"
   ]
  },
  {
   "cell_type": "code",
   "execution_count": 97,
   "metadata": {},
   "outputs": [
    {
     "data": {
      "text/plain": [
       "(2, 3, 1)"
      ]
     },
     "execution_count": 97,
     "metadata": {},
     "output_type": "execute_result"
    }
   ],
   "source": [
    "# 當參數包在陣列或數組中, 需用到 ... 做參數解構\n",
    "x = [1, 2, 3]\n",
    "shuffle_(x...)    # 相當於 shuffle_(1, 2, 3)"
   ]
  },
  {
   "cell_type": "code",
   "execution_count": 98,
   "metadata": {},
   "outputs": [
    {
     "data": {
      "text/plain": [
       "10-element Array{Any,1}:\n",
       "   1\n",
       "   4\n",
       "   9\n",
       "  16\n",
       "  25\n",
       "  36\n",
       "  49\n",
       "  64\n",
       "  81\n",
       " 100"
      ]
     },
     "execution_count": 98,
     "metadata": {},
     "output_type": "execute_result"
    }
   ],
   "source": [
    "# 函數向量化\n",
    "# 一般做法 :\n",
    "x = [1, 2, 3, 4, 5, 6, 7, 8, 9, 10]\n",
    "y = []\n",
    "for i in x\n",
    "    push!(y, i^2)\n",
    "end\n",
    "y"
   ]
  },
  {
   "cell_type": "code",
   "execution_count": 99,
   "metadata": {},
   "outputs": [
    {
     "data": {
      "text/plain": [
       "10-element Array{Int64,1}:\n",
       "   1\n",
       "   4\n",
       "   9\n",
       "  16\n",
       "  25\n",
       "  36\n",
       "  49\n",
       "  64\n",
       "  81\n",
       " 100"
      ]
     },
     "execution_count": 99,
     "metadata": {},
     "output_type": "execute_result"
    }
   ],
   "source": [
    "# 向量化：運算子前加 .\n",
    "x .^ 2"
   ]
  },
  {
   "cell_type": "code",
   "execution_count": 100,
   "metadata": {},
   "outputs": [
    {
     "data": {
      "text/plain": [
       "10-element Array{Int64,1}:\n",
       "  3\n",
       "  6\n",
       "  9\n",
       " 12\n",
       " 15\n",
       " 18\n",
       " 21\n",
       " 24\n",
       " 27\n",
       " 30"
      ]
     },
     "execution_count": 100,
     "metadata": {},
     "output_type": "execute_result"
    }
   ],
   "source": [
    "# 自定義函數向量化：在函數名稱後加 .\n",
    "f(x) = 3 * x\n",
    "f.(x)"
   ]
  },
  {
   "cell_type": "code",
   "execution_count": null,
   "metadata": {},
   "outputs": [],
   "source": []
  }
 ],
 "metadata": {
  "@webio": {
   "lastCommId": null,
   "lastKernelId": null
  },
  "kernelspec": {
   "display_name": "Julia 1.1.0",
   "language": "julia",
   "name": "julia-1.1"
  },
  "language_info": {
   "file_extension": ".jl",
   "mimetype": "application/julia",
   "name": "julia",
   "version": "1.1.0"
  }
 },
 "nbformat": 4,
 "nbformat_minor": 2
}
