{
 "cells": [
  {
   "cell_type": "code",
   "execution_count": 1,
   "metadata": {},
   "outputs": [
    {
     "data": {
      "text/plain": [
       "\"C:\\\\Users\\\\user\\\\Documents\\\\Julia\\\\Julia-master\""
      ]
     },
     "execution_count": 1,
     "metadata": {},
     "output_type": "execute_result"
    }
   ],
   "source": [
    "# present working directory\n",
    "pwd()"
   ]
  },
  {
   "cell_type": "code",
   "execution_count": 4,
   "metadata": {},
   "outputs": [
    {
     "data": {
      "text/plain": [
       "\"C:\\\\Users\\\\user\\\\desktop\""
      ]
     },
     "execution_count": 4,
     "metadata": {},
     "output_type": "execute_result"
    }
   ],
   "source": [
    "# change directory\n",
    "cd(\"C:/Users/user/desktop\")\n",
    "pwd()"
   ]
  },
  {
   "cell_type": "code",
   "execution_count": 6,
   "metadata": {},
   "outputs": [],
   "source": [
    "cd(\"C:/Users/user/Documents/Julia/Julia-master\")"
   ]
  },
  {
   "cell_type": "code",
   "execution_count": 7,
   "metadata": {},
   "outputs": [
    {
     "data": {
      "text/plain": [
       "\"C:/Users/user/Documents/Julia/Julia-master/copy.txt\""
      ]
     },
     "execution_count": 7,
     "metadata": {},
     "output_type": "execute_result"
    }
   ],
   "source": [
    "# copy\n",
    "cp(\"C:/Users/user/Documents/Julia/Julia-master/test.txt\",\n",
    "    \"C:/Users/user/Documents/Julia/Julia-master/copy.txt\"\n",
    ")"
   ]
  },
  {
   "cell_type": "code",
   "execution_count": 8,
   "metadata": {},
   "outputs": [
    {
     "data": {
      "text/plain": [
       "\"C:/Users/user/desktop/copy.txt\""
      ]
     },
     "execution_count": 8,
     "metadata": {},
     "output_type": "execute_result"
    }
   ],
   "source": [
    "# move\n",
    "mv(\"C:/Users/user/Documents/Julia/Julia-master/copy.txt\", \"C:/Users/user/desktop/copy.txt\")"
   ]
  },
  {
   "cell_type": "code",
   "execution_count": 9,
   "metadata": {},
   "outputs": [
    {
     "data": {
      "text/plain": [
       "\"C:/Users/user/desktop/rename.txt\""
      ]
     },
     "execution_count": 9,
     "metadata": {},
     "output_type": "execute_result"
    }
   ],
   "source": [
    "# move也可用來重新命名\n",
    "mv(\"C:/Users/user/desktop/copy.txt\", \"C:/Users/user/desktop/rename.txt\")"
   ]
  },
  {
   "cell_type": "code",
   "execution_count": 10,
   "metadata": {},
   "outputs": [],
   "source": [
    "# remove\n",
    "rm(\"C:/Users/user/desktop/rename.txt\")"
   ]
  },
  {
   "cell_type": "code",
   "execution_count": 11,
   "metadata": {},
   "outputs": [
    {
     "data": {
      "text/plain": [
       "\"C:/Users/user/desktop/newfile.txt\""
      ]
     },
     "execution_count": 11,
     "metadata": {},
     "output_type": "execute_result"
    }
   ],
   "source": [
    "# touch 建新檔案\n",
    "touch(\"C:/Users/user/desktop/newfile.txt\")"
   ]
  },
  {
   "cell_type": "code",
   "execution_count": 12,
   "metadata": {},
   "outputs": [
    {
     "data": {
      "text/plain": [
       "true"
      ]
     },
     "execution_count": 12,
     "metadata": {},
     "output_type": "execute_result"
    }
   ],
   "source": [
    "# 是否為存在的檔案\n",
    "isfile(\"C:/Users/user/desktop/newfile.txt\")"
   ]
  },
  {
   "cell_type": "code",
   "execution_count": 13,
   "metadata": {},
   "outputs": [],
   "source": [
    "rm(\"C:/Users/user/desktop/newfile.txt\")"
   ]
  },
  {
   "cell_type": "code",
   "execution_count": 14,
   "metadata": {},
   "outputs": [
    {
     "data": {
      "text/plain": [
       "\"C:/Users/user/desktop/新資料夾\""
      ]
     },
     "execution_count": 14,
     "metadata": {},
     "output_type": "execute_result"
    }
   ],
   "source": [
    "# make directory 建一個新資料夾\n",
    "mkdir(\"C:/Users/user/desktop/新資料夾\")"
   ]
  },
  {
   "cell_type": "code",
   "execution_count": 15,
   "metadata": {},
   "outputs": [
    {
     "data": {
      "text/plain": [
       "\"C:/Users/user/desktop/新資料夾/a/b/c/d\""
      ]
     },
     "execution_count": 15,
     "metadata": {},
     "output_type": "execute_result"
    }
   ],
   "source": [
    "# make path 建一個資料夾路徑\n",
    "mkpath(\"C:/Users/user/desktop/新資料夾/a/b/c/d\")"
   ]
  },
  {
   "cell_type": "code",
   "execution_count": 36,
   "metadata": {},
   "outputs": [],
   "source": [
    "# 如果該資料夾存在, 刪除該資料夾\n",
    "isdir(\"C:/Users/user/desktop/新資料夾\") ? rm(\"C:/Users/user/desktop/新資料夾\", recursive = true) : ()"
   ]
  },
  {
   "cell_type": "code",
   "execution_count": 69,
   "metadata": {},
   "outputs": [
    {
     "data": {
      "text/plain": [
       "(true, true)"
      ]
     },
     "execution_count": 69,
     "metadata": {},
     "output_type": "execute_result"
    }
   ],
   "source": [
    "# 上一層路徑, 及當前路徑\n",
    "ispath.((\"..\", \".\"))"
   ]
  },
  {
   "cell_type": "code",
   "execution_count": 70,
   "metadata": {},
   "outputs": [
    {
     "data": {
      "text/plain": [
       "false"
      ]
     },
     "execution_count": 70,
     "metadata": {},
     "output_type": "execute_result"
    }
   ],
   "source": [
    "# 是否為絕對路徑\n",
    "isabspath(\".\")"
   ]
  },
  {
   "cell_type": "code",
   "execution_count": 73,
   "metadata": {},
   "outputs": [
    {
     "data": {
      "text/plain": [
       "false"
      ]
     },
     "execution_count": 73,
     "metadata": {},
     "output_type": "execute_result"
    }
   ],
   "source": [
    "# 檢查路徑是否為一個資料夾\n",
    "isdirpath(\"C:/Users/user/Documents\")"
   ]
  },
  {
   "cell_type": "code",
   "execution_count": 74,
   "metadata": {},
   "outputs": [
    {
     "data": {
      "text/plain": [
       "true"
      ]
     },
     "execution_count": 74,
     "metadata": {},
     "output_type": "execute_result"
    }
   ],
   "source": [
    "isdirpath(\"C:/Users/user/Documents/\")"
   ]
  },
  {
   "cell_type": "code",
   "execution_count": 101,
   "metadata": {},
   "outputs": [
    {
     "data": {
      "text/plain": [
       "\"C:\\\\Users\\\\user\\\\Documents\\\\\""
      ]
     },
     "execution_count": 101,
     "metadata": {},
     "output_type": "execute_result"
    }
   ],
   "source": [
    "# 相對路徑轉絕對路徑\n",
    "abspath(\"../..\")"
   ]
  },
  {
   "cell_type": "code",
   "execution_count": 111,
   "metadata": {},
   "outputs": [
    {
     "data": {
      "text/plain": [
       "\"..\\\\..\\\\..\\\\desktop\""
      ]
     },
     "execution_count": 111,
     "metadata": {},
     "output_type": "execute_result"
    }
   ],
   "source": [
    "# 絕對路徑轉相對路徑\n",
    "relpath(\"C:/Users/user/desktop\")"
   ]
  },
  {
   "cell_type": "code",
   "execution_count": 123,
   "metadata": {},
   "outputs": [
    {
     "data": {
      "text/plain": [
       "\"C:\\\\Users\\\\user\\\\Documents\\\\Julia\\\\Julia-master/test.txt\""
      ]
     },
     "execution_count": 123,
     "metadata": {},
     "output_type": "execute_result"
    }
   ],
   "source": [
    "# 串接路徑\n",
    "joinpath(\"C:\\\\Users\\\\user\\\\Documents\\\\Julia\", \"Julia-master/test.txt\")"
   ]
  },
  {
   "cell_type": "code",
   "execution_count": 124,
   "metadata": {},
   "outputs": [
    {
     "data": {
      "text/plain": [
       "true"
      ]
     },
     "execution_count": 124,
     "metadata": {},
     "output_type": "execute_result"
    }
   ],
   "source": [
    "ispath(joinpath(\"C:\\\\Users\\\\user\\\\Documents\\\\Julia\", \"Julia-master/test.txt\"))"
   ]
  },
  {
   "cell_type": "code",
   "execution_count": 125,
   "metadata": {},
   "outputs": [
    {
     "data": {
      "text/plain": [
       "\"C:/Users/user/Documents/Julia/Julia-master\""
      ]
     },
     "execution_count": 125,
     "metadata": {},
     "output_type": "execute_result"
    }
   ],
   "source": [
    "# 獲取目錄的部分\n",
    "dirname(\"C:/Users/user/Documents/Julia/Julia-master/test.txt\")"
   ]
  },
  {
   "cell_type": "code",
   "execution_count": 126,
   "metadata": {},
   "outputs": [
    {
     "data": {
      "text/plain": [
       "\"test.txt\""
      ]
     },
     "execution_count": 126,
     "metadata": {},
     "output_type": "execute_result"
    }
   ],
   "source": [
    "# 獲取檔案名稱的部分\n",
    "basename(\"C:/Users/user/Documents/Julia/Julia-master/test.txt\")"
   ]
  },
  {
   "cell_type": "code",
   "execution_count": 127,
   "metadata": {},
   "outputs": [
    {
     "data": {
      "text/plain": [
       "(\"C:/Users/user/Documents/Julia/Julia-master\", \"test.txt\")"
      ]
     },
     "execution_count": 127,
     "metadata": {},
     "output_type": "execute_result"
    }
   ],
   "source": [
    "# 拆解路徑\n",
    "splitdir(\"C:/Users/user/Documents/Julia/Julia-master/test.txt\")"
   ]
  },
  {
   "cell_type": "code",
   "execution_count": 128,
   "metadata": {},
   "outputs": [
    {
     "data": {
      "text/plain": [
       "(\"C:\", \"/Users/user/Documents/Julia/Julia-master/test.txt\")"
      ]
     },
     "execution_count": 128,
     "metadata": {},
     "output_type": "execute_result"
    }
   ],
   "source": [
    "# 拆解磁碟機路徑\n",
    "splitdrive(\"C:/Users/user/Documents/Julia/Julia-master/test.txt\")"
   ]
  },
  {
   "cell_type": "code",
   "execution_count": 129,
   "metadata": {},
   "outputs": [
    {
     "data": {
      "text/plain": [
       "(\"C:/Users/user/Documents/Julia/Julia-master/test\", \".txt\")"
      ]
     },
     "execution_count": 129,
     "metadata": {},
     "output_type": "execute_result"
    }
   ],
   "source": [
    "# 拆解附檔名\n",
    "splitext(\"C:/Users/user/Documents/Julia/Julia-master/test.txt\")"
   ]
  },
  {
   "cell_type": "code",
   "execution_count": 130,
   "metadata": {},
   "outputs": [
    {
     "data": {
      "text/plain": [
       "9-element Array{String,1}:\n",
       " \".ipynb_checkpoints\"              \n",
       " \"1. Hello.ipynb\"                  \n",
       " \"2. Programming Core.ipynb\"       \n",
       " \"3. Type,Method,Constructor.ipynb\"\n",
       " \"4. Input, Output.ipynb\"          \n",
       " \"5. files management.ipynb\"       \n",
       " \"test.txt\"                        \n",
       " \"test2.txt\"                       \n",
       " \"testLong.txt\"                    "
      ]
     },
     "execution_count": 130,
     "metadata": {},
     "output_type": "execute_result"
    }
   ],
   "source": [
    "# 遍歷資料夾\n",
    "readdir(\".\")"
   ]
  },
  {
   "cell_type": "code",
   "execution_count": 135,
   "metadata": {},
   "outputs": [
    {
     "name": "stdout",
     "output_type": "stream",
     "text": [
      "\n",
      "Directories in C:\\Users\\user\\Documents\\Julia\\\n",
      "Julia-master\n",
      "StatWithJulia\n",
      "Files in C:\\Users\\user\\Documents\\Julia\\\n",
      "\n",
      "Directories in C:\\Users\\user\\Documents\\Julia\\Julia-master\n",
      ".ipynb_checkpoints\n",
      "Files in C:\\Users\\user\\Documents\\Julia\\Julia-master\n",
      "1. Hello.ipynb\n",
      "2. Programming Core.ipynb\n",
      "3. Type,Method,Constructor.ipynb\n",
      "4. Input, Output.ipynb\n",
      "5. files management.ipynb\n",
      "test.txt\n",
      "test2.txt\n",
      "testLong.txt\n",
      "\n",
      "Directories in C:\\Users\\user\\Documents\\Julia\\Julia-master\\.ipynb_checkpoints\n",
      "Files in C:\\Users\\user\\Documents\\Julia\\Julia-master\\.ipynb_checkpoints\n",
      "1. Hello-checkpoint.ipynb\n",
      "2. Programming Core-checkpoint.ipynb\n",
      "3. Type,Method,Constructor-checkpoint.ipynb\n",
      "4. Input, Output-checkpoint.ipynb\n",
      "5. files management-checkpoint.ipynb\n",
      "\n",
      "Directories in C:\\Users\\user\\Documents\\Julia\\StatWithJulia\n",
      ".ipynb_checkpoints\n",
      "Files in C:\\Users\\user\\Documents\\Julia\\StatWithJulia\n",
      "ch.1 Introducing Julia.ipynb\n",
      "\n",
      "Directories in C:\\Users\\user\\Documents\\Julia\\StatWithJulia\\.ipynb_checkpoints\n",
      "Files in C:\\Users\\user\\Documents\\Julia\\StatWithJulia\\.ipynb_checkpoints\n",
      "ch.1 Introducing Julia-checkpoint.ipynb\n"
     ]
    }
   ],
   "source": [
    "# walkdir 可搭配迴圈, 一層層展開路徑的內容\n",
    "for (p, dirs, files) in walkdir(abspath(\"..\"))\n",
    "    println(\"\\nDirectories in \", p)\n",
    "    for dir in dirs\n",
    "        println(dir)\n",
    "    end\n",
    "    println(\"Files in \", p)\n",
    "    for file in files\n",
    "        println(file)\n",
    "    end\n",
    "end"
   ]
  },
  {
   "cell_type": "code",
   "execution_count": 136,
   "metadata": {},
   "outputs": [
    {
     "data": {
      "text/plain": [
       "StatStruct(mode=0o100666, size=6)"
      ]
     },
     "execution_count": 136,
     "metadata": {},
     "output_type": "execute_result"
    }
   ],
   "source": [
    "# 萃取檔案的狀態及屬性\n",
    "s = stat(\"C:/Users/user/Documents/Julia/Julia-master/test.txt\")"
   ]
  },
  {
   "cell_type": "code",
   "execution_count": 144,
   "metadata": {},
   "outputs": [
    {
     "data": {
      "text/plain": [
       "(1.5649058138482928e9, 6)"
      ]
     },
     "execution_count": 144,
     "metadata": {},
     "output_type": "execute_result"
    }
   ],
   "source": [
    "# 檔案創建時間, 及檔案大小(bytes)\n",
    "s.ctime, s.size"
   ]
  }
 ],
 "metadata": {
  "kernelspec": {
   "display_name": "Julia 1.1.0",
   "language": "julia",
   "name": "julia-1.1"
  },
  "language_info": {
   "file_extension": ".jl",
   "mimetype": "application/julia",
   "name": "julia",
   "version": "1.1.0"
  }
 },
 "nbformat": 4,
 "nbformat_minor": 2
}
