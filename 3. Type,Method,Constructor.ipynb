{
 "cells": [
  {
   "cell_type": "code",
   "execution_count": 4,
   "metadata": {},
   "outputs": [
    {
     "data": {
      "text/plain": [
       "3"
      ]
     },
     "execution_count": 4,
     "metadata": {},
     "output_type": "execute_result"
    }
   ],
   "source": [
    "# 型別宣告\n",
    "# 此為斷言宣告, 若型別不同則回傳Error\n",
    "x = 3::Int64"
   ]
  },
  {
   "cell_type": "code",
   "execution_count": 5,
   "metadata": {},
   "outputs": [
    {
     "ename": "TypeError",
     "evalue": "TypeError: in typeassert, expected Int8, got Int64",
     "output_type": "error",
     "traceback": [
      "TypeError: in typeassert, expected Int8, got Int64",
      "",
      "Stacktrace:",
      " [1] top-level scope at In[5]:1"
     ]
    }
   ],
   "source": [
    "# 型別錯誤\n",
    "x = 3::Int8"
   ]
  },
  {
   "cell_type": "code",
   "execution_count": 6,
   "metadata": {},
   "outputs": [],
   "source": [
    "# 複合型別\n",
    "# 型別名稱由大寫開頭並以駝峰式命名(ex: OneTwoThree) \n",
    "struct Time\n",
    "    hour::Int64\n",
    "    minute::Int64\n",
    "    second::Int64\n",
    "end"
   ]
  },
  {
   "cell_type": "code",
   "execution_count": 7,
   "metadata": {},
   "outputs": [
    {
     "data": {
      "text/plain": [
       "Time(10, 5, 0)"
      ]
     },
     "execution_count": 7,
     "metadata": {},
     "output_type": "execute_result"
    }
   ],
   "source": [
    "time1 = Time(10, 5, 0)"
   ]
  },
  {
   "cell_type": "code",
   "execution_count": 9,
   "metadata": {},
   "outputs": [
    {
     "data": {
      "text/plain": [
       "10"
      ]
     },
     "execution_count": 9,
     "metadata": {},
     "output_type": "execute_result"
    }
   ],
   "source": [
    "# <物件>.<欄位>\n",
    "time1.hour"
   ]
  },
  {
   "cell_type": "code",
   "execution_count": 10,
   "metadata": {},
   "outputs": [
    {
     "ename": "ErrorException",
     "evalue": "setfield! immutable struct of type Time cannot be changed",
     "output_type": "error",
     "traceback": [
      "setfield! immutable struct of type Time cannot be changed",
      "",
      "Stacktrace:",
      " [1] setproperty!(::Time, ::Symbol, ::Int64) at .\\sysimg.jl:19",
      " [2] top-level scope at In[10]:1"
     ]
    }
   ],
   "source": [
    "# 用struct建構的型別式不可變的\n",
    "time1.hour = 5"
   ]
  },
  {
   "cell_type": "code",
   "execution_count": 11,
   "metadata": {},
   "outputs": [],
   "source": [
    "# 建立可變的型別\n",
    "mutable struct Time2\n",
    "    hour::Int64\n",
    "    minute::Int64\n",
    "    second::Int64\n",
    "end"
   ]
  },
  {
   "cell_type": "code",
   "execution_count": 12,
   "metadata": {},
   "outputs": [
    {
     "data": {
      "text/plain": [
       "Time2(10, 5, 0)"
      ]
     },
     "execution_count": 12,
     "metadata": {},
     "output_type": "execute_result"
    }
   ],
   "source": [
    "time2 = Time2(10, 5, 0)"
   ]
  },
  {
   "cell_type": "code",
   "execution_count": 13,
   "metadata": {},
   "outputs": [
    {
     "data": {
      "text/plain": [
       "5"
      ]
     },
     "execution_count": 13,
     "metadata": {},
     "output_type": "execute_result"
    }
   ],
   "source": [
    "# 改變型別欄位\n",
    "time2.hour = 5"
   ]
  },
  {
   "cell_type": "code",
   "execution_count": 14,
   "metadata": {},
   "outputs": [
    {
     "ename": "MethodError",
     "evalue": "MethodError: Cannot `convert` an object of type String to an object of type Int64\nClosest candidates are:\n  convert(::Type{T<:Number}, !Matched::T<:Number) where T<:Number at number.jl:6\n  convert(::Type{T<:Number}, !Matched::Number) where T<:Number at number.jl:7\n  convert(::Type{T<:Integer}, !Matched::Ptr) where T<:Integer at pointer.jl:23\n  ...",
     "output_type": "error",
     "traceback": [
      "MethodError: Cannot `convert` an object of type String to an object of type Int64\nClosest candidates are:\n  convert(::Type{T<:Number}, !Matched::T<:Number) where T<:Number at number.jl:6\n  convert(::Type{T<:Number}, !Matched::Number) where T<:Number at number.jl:7\n  convert(::Type{T<:Integer}, !Matched::Ptr) where T<:Integer at pointer.jl:23\n  ...",
      "",
      "Stacktrace:",
      " [1] setproperty!(::Time2, ::Symbol, ::String) at .\\sysimg.jl:19",
      " [2] top-level scope at In[14]:1"
     ]
    }
   ],
   "source": [
    "# 型別錯誤\n",
    "time2.hour = \"Hi\""
   ]
  },
  {
   "cell_type": "code",
   "execution_count": 15,
   "metadata": {},
   "outputs": [],
   "source": [
    "mutable struct Time3\n",
    "    hour::Int64\n",
    "    minute::Int64\n",
    "    second::Int64\n",
    "    Time3(h, m) = new(h, m, 0)  # 內部建構子\n",
    "end\n",
    "\n",
    "# 內部建構子是一個函式, 函式名稱必須與型別名稱相同\n",
    "# new只能在內部建構子中使用, 參數與型別欄位依序對應\n",
    "# 此例為: 只允許變更小時及分鐘欄位, 秒數固定為0"
   ]
  },
  {
   "cell_type": "code",
   "execution_count": 17,
   "metadata": {},
   "outputs": [
    {
     "data": {
      "text/plain": [
       "Time3(3, 4, 0)"
      ]
     },
     "execution_count": 17,
     "metadata": {},
     "output_type": "execute_result"
    }
   ],
   "source": [
    "time3 = Time3(3, 4)"
   ]
  },
  {
   "cell_type": "code",
   "execution_count": 18,
   "metadata": {},
   "outputs": [
    {
     "ename": "MethodError",
     "evalue": "MethodError: no method matching Time3(::Int64, ::Int64, ::Int64)\nClosest candidates are:\n  Time3(::Any, ::Any) at In[15]:5",
     "output_type": "error",
     "traceback": [
      "MethodError: no method matching Time3(::Int64, ::Int64, ::Int64)\nClosest candidates are:\n  Time3(::Any, ::Any) at In[15]:5",
      "",
      "Stacktrace:",
      " [1] top-level scope at In[18]:1"
     ]
    }
   ],
   "source": [
    "# 須遵循內部建構子的設定\n",
    "time3 = Time3(3, 4, 3)"
   ]
  },
  {
   "cell_type": "code",
   "execution_count": null,
   "metadata": {},
   "outputs": [],
   "source": []
  }
 ],
 "metadata": {
  "kernelspec": {
   "display_name": "Julia 1.1.0",
   "language": "julia",
   "name": "julia-1.1"
  },
  "language_info": {
   "file_extension": ".jl",
   "mimetype": "application/julia",
   "name": "julia",
   "version": "1.1.0"
  }
 },
 "nbformat": 4,
 "nbformat_minor": 2
}
