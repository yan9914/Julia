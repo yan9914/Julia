{
 "cells": [
  {
   "cell_type": "code",
   "execution_count": 4,
   "metadata": {},
   "outputs": [
    {
     "data": {
      "text/plain": [
       "3"
      ]
     },
     "execution_count": 4,
     "metadata": {},
     "output_type": "execute_result"
    }
   ],
   "source": [
    "# 型別宣告\n",
    "# 此為斷言宣告, 若型別不同則回傳Error\n",
    "x = 3::Int64"
   ]
  },
  {
   "cell_type": "code",
   "execution_count": 5,
   "metadata": {},
   "outputs": [
    {
     "ename": "TypeError",
     "evalue": "TypeError: in typeassert, expected Int8, got Int64",
     "output_type": "error",
     "traceback": [
      "TypeError: in typeassert, expected Int8, got Int64",
      "",
      "Stacktrace:",
      " [1] top-level scope at In[5]:1"
     ]
    }
   ],
   "source": [
    "# 型別錯誤\n",
    "x = 3::Int8"
   ]
  },
  {
   "cell_type": "code",
   "execution_count": 6,
   "metadata": {},
   "outputs": [],
   "source": [
    "# 複合型別\n",
    "# 型別名稱由大寫開頭並以駝峰式命名(ex: OneTwoThree) \n",
    "struct Time\n",
    "    hour::Int64\n",
    "    minute::Int64\n",
    "    second::Int64\n",
    "end"
   ]
  },
  {
   "cell_type": "code",
   "execution_count": 7,
   "metadata": {},
   "outputs": [
    {
     "data": {
      "text/plain": [
       "Time(10, 5, 0)"
      ]
     },
     "execution_count": 7,
     "metadata": {},
     "output_type": "execute_result"
    }
   ],
   "source": [
    "time1 = Time(10, 5, 0)"
   ]
  },
  {
   "cell_type": "code",
   "execution_count": 9,
   "metadata": {},
   "outputs": [
    {
     "data": {
      "text/plain": [
       "10"
      ]
     },
     "execution_count": 9,
     "metadata": {},
     "output_type": "execute_result"
    }
   ],
   "source": [
    "# <物件>.<欄位>\n",
    "time1.hour"
   ]
  },
  {
   "cell_type": "code",
   "execution_count": 10,
   "metadata": {},
   "outputs": [
    {
     "ename": "ErrorException",
     "evalue": "setfield! immutable struct of type Time cannot be changed",
     "output_type": "error",
     "traceback": [
      "setfield! immutable struct of type Time cannot be changed",
      "",
      "Stacktrace:",
      " [1] setproperty!(::Time, ::Symbol, ::Int64) at .\\sysimg.jl:19",
      " [2] top-level scope at In[10]:1"
     ]
    }
   ],
   "source": [
    "# 用struct建構的型別式不可變的\n",
    "time1.hour = 5"
   ]
  },
  {
   "cell_type": "code",
   "execution_count": 11,
   "metadata": {},
   "outputs": [],
   "source": [
    "# 建立可變的型別\n",
    "mutable struct Time2\n",
    "    hour::Int64\n",
    "    minute::Int64\n",
    "    second::Int64\n",
    "end"
   ]
  },
  {
   "cell_type": "code",
   "execution_count": 12,
   "metadata": {},
   "outputs": [
    {
     "data": {
      "text/plain": [
       "Time2(10, 5, 0)"
      ]
     },
     "execution_count": 12,
     "metadata": {},
     "output_type": "execute_result"
    }
   ],
   "source": [
    "time2 = Time2(10, 5, 0)"
   ]
  },
  {
   "cell_type": "code",
   "execution_count": 13,
   "metadata": {},
   "outputs": [
    {
     "data": {
      "text/plain": [
       "5"
      ]
     },
     "execution_count": 13,
     "metadata": {},
     "output_type": "execute_result"
    }
   ],
   "source": [
    "# 改變型別欄位\n",
    "time2.hour = 5"
   ]
  },
  {
   "cell_type": "code",
   "execution_count": 14,
   "metadata": {},
   "outputs": [
    {
     "ename": "MethodError",
     "evalue": "MethodError: Cannot `convert` an object of type String to an object of type Int64\nClosest candidates are:\n  convert(::Type{T<:Number}, !Matched::T<:Number) where T<:Number at number.jl:6\n  convert(::Type{T<:Number}, !Matched::Number) where T<:Number at number.jl:7\n  convert(::Type{T<:Integer}, !Matched::Ptr) where T<:Integer at pointer.jl:23\n  ...",
     "output_type": "error",
     "traceback": [
      "MethodError: Cannot `convert` an object of type String to an object of type Int64\nClosest candidates are:\n  convert(::Type{T<:Number}, !Matched::T<:Number) where T<:Number at number.jl:6\n  convert(::Type{T<:Number}, !Matched::Number) where T<:Number at number.jl:7\n  convert(::Type{T<:Integer}, !Matched::Ptr) where T<:Integer at pointer.jl:23\n  ...",
      "",
      "Stacktrace:",
      " [1] setproperty!(::Time2, ::Symbol, ::String) at .\\sysimg.jl:19",
      " [2] top-level scope at In[14]:1"
     ]
    }
   ],
   "source": [
    "# 型別錯誤\n",
    "time2.hour = \"Hi\""
   ]
  },
  {
   "cell_type": "code",
   "execution_count": 15,
   "metadata": {},
   "outputs": [],
   "source": [
    "mutable struct Time3\n",
    "    hour::Int64\n",
    "    minute::Int64\n",
    "    second::Int64\n",
    "    Time3(h, m) = new(h, m, 0)  # 內部建構子\n",
    "end\n",
    "\n",
    "# 內部建構子是一個函式, 函式名稱必須與型別名稱相同\n",
    "# new只能在內部建構子中使用, 參數與型別欄位依序對應\n",
    "# 此例為: 只允許變更小時及分鐘欄位, 秒數固定為0"
   ]
  },
  {
   "cell_type": "code",
   "execution_count": 17,
   "metadata": {},
   "outputs": [
    {
     "data": {
      "text/plain": [
       "Time3(3, 4, 0)"
      ]
     },
     "execution_count": 17,
     "metadata": {},
     "output_type": "execute_result"
    }
   ],
   "source": [
    "time3 = Time3(3, 4)"
   ]
  },
  {
   "cell_type": "code",
   "execution_count": 18,
   "metadata": {},
   "outputs": [
    {
     "ename": "MethodError",
     "evalue": "MethodError: no method matching Time3(::Int64, ::Int64, ::Int64)\nClosest candidates are:\n  Time3(::Any, ::Any) at In[15]:5",
     "output_type": "error",
     "traceback": [
      "MethodError: no method matching Time3(::Int64, ::Int64, ::Int64)\nClosest candidates are:\n  Time3(::Any, ::Any) at In[15]:5",
      "",
      "Stacktrace:",
      " [1] top-level scope at In[18]:1"
     ]
    }
   ],
   "source": [
    "# 須遵循內部建構子的設定\n",
    "time3 = Time3(3, 4, 3)"
   ]
  },
  {
   "cell_type": "code",
   "execution_count": 11,
   "metadata": {},
   "outputs": [
    {
     "data": {
      "text/plain": [
       "8×8 Array{Int64,2}:\n",
       "  2  20  45  74   87  105  143  159\n",
       "  5  23  49  76   91  120  149  162\n",
       "  8  26  54  77   97  121  150  163\n",
       "  9  27  56  79   98  125  152  167\n",
       " 11  30  61  80   99  130  153  173\n",
       " 16  35  63  82  100  132  155  174\n",
       " 17  36  67  83  102  137  156  175\n",
       " 19  44  73  86  103  139  158  178"
      ]
     },
     "execution_count": 11,
     "metadata": {},
     "output_type": "execute_result"
    }
   ],
   "source": [
    "# 參數化型別, 此例的Int64為輸入的參數\n",
    "Matrix{Int64}(undef, 8, 8)"
   ]
  },
  {
   "cell_type": "code",
   "execution_count": 19,
   "metadata": {},
   "outputs": [],
   "source": [
    "# 參數名稱建議大寫的單一字母\n",
    "struct Box{T}\n",
    "    element::T\n",
    "end"
   ]
  },
  {
   "cell_type": "code",
   "execution_count": 20,
   "metadata": {},
   "outputs": [
    {
     "data": {
      "text/plain": [
       "Char"
      ]
     },
     "execution_count": 20,
     "metadata": {},
     "output_type": "execute_result"
    }
   ],
   "source": [
    "x = Box{Char}('A')\n",
    "typeof(x.element)"
   ]
  },
  {
   "cell_type": "code",
   "execution_count": 26,
   "metadata": {},
   "outputs": [
    {
     "data": {
      "text/plain": [
       "format (generic function with 1 method)"
      ]
     },
     "execution_count": 26,
     "metadata": {},
     "output_type": "execute_result"
    }
   ],
   "source": [
    "mutable struct Time2\n",
    "    hour::Int64\n",
    "    minute::Int64\n",
    "    second::Int64\n",
    "end\n",
    "\n",
    "format(time::Time2) = \"$(time.hour):$(time.minute):$(time.second)\""
   ]
  },
  {
   "cell_type": "code",
   "execution_count": 27,
   "metadata": {},
   "outputs": [
    {
     "data": {
      "text/plain": [
       "\"12:0:0\""
      ]
     },
     "execution_count": 27,
     "metadata": {},
     "output_type": "execute_result"
    }
   ],
   "source": [
    "time = Time2(12, 0, 0)\n",
    "formated_time = format(time)"
   ]
  },
  {
   "cell_type": "code",
   "execution_count": 29,
   "metadata": {},
   "outputs": [
    {
     "data": {
      "text/plain": [
       "ispm (generic function with 1 method)"
      ]
     },
     "execution_count": 29,
     "metadata": {},
     "output_type": "execute_result"
    }
   ],
   "source": [
    "# 判斷是否為上午或下午的方法\n",
    "function isam(time::Time2)\n",
    "    if 0 <= time.hour < 12\n",
    "        return true\n",
    "    end\n",
    "    return false\n",
    "end\n",
    "\n",
    "function ispm(time::Time2)\n",
    "    if 12 <= time.hour < 24\n",
    "        return true\n",
    "    end\n",
    "    return false\n",
    "end"
   ]
  },
  {
   "cell_type": "code",
   "execution_count": 30,
   "metadata": {},
   "outputs": [
    {
     "data": {
      "text/plain": [
       "false"
      ]
     },
     "execution_count": 30,
     "metadata": {},
     "output_type": "execute_result"
    }
   ],
   "source": [
    "isam(time)"
   ]
  },
  {
   "cell_type": "code",
   "execution_count": 31,
   "metadata": {},
   "outputs": [
    {
     "data": {
      "text/plain": [
       "true"
      ]
     },
     "execution_count": 31,
     "metadata": {},
     "output_type": "execute_result"
    }
   ],
   "source": [
    "ispm(time)"
   ]
  },
  {
   "cell_type": "code",
   "execution_count": null,
   "metadata": {},
   "outputs": [],
   "source": []
  }
 ],
 "metadata": {
  "kernelspec": {
   "display_name": "Julia 1.1.0",
   "language": "julia",
   "name": "julia-1.1"
  },
  "language_info": {
   "file_extension": ".jl",
   "mimetype": "application/julia",
   "name": "julia",
   "version": "1.1.0"
  }
 },
 "nbformat": 4,
 "nbformat_minor": 2
}
