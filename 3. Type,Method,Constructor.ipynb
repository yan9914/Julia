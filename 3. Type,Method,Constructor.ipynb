{
 "cells": [
  {
   "cell_type": "code",
   "execution_count": 1,
   "metadata": {},
   "outputs": [
    {
     "data": {
      "text/plain": [
       "3"
      ]
     },
     "execution_count": 1,
     "metadata": {},
     "output_type": "execute_result"
    }
   ],
   "source": [
    "# 型別宣告\n",
    "# 此為斷言宣告, 若型別不同則回傳Error\n",
    "x = 3::Int64"
   ]
  },
  {
   "cell_type": "code",
   "execution_count": 2,
   "metadata": {},
   "outputs": [
    {
     "ename": "TypeError",
     "evalue": "TypeError: in typeassert, expected Int8, got Int64",
     "output_type": "error",
     "traceback": [
      "TypeError: in typeassert, expected Int8, got Int64",
      "",
      "Stacktrace:",
      " [1] top-level scope at In[2]:1"
     ]
    }
   ],
   "source": [
    "# 型別錯誤\n",
    "x = 3::Int8"
   ]
  },
  {
   "cell_type": "code",
   "execution_count": 3,
   "metadata": {},
   "outputs": [],
   "source": [
    "# 複合型別\n",
    "# 型別名稱由大寫開頭並以駝峰式命名(ex: OneTwoThree) \n",
    "struct Time\n",
    "    hour::Int64\n",
    "    minute::Int64\n",
    "    second::Int64\n",
    "end"
   ]
  },
  {
   "cell_type": "code",
   "execution_count": 4,
   "metadata": {},
   "outputs": [
    {
     "data": {
      "text/plain": [
       "Time(10, 5, 0)"
      ]
     },
     "execution_count": 4,
     "metadata": {},
     "output_type": "execute_result"
    }
   ],
   "source": [
    "time1 = Time(10, 5, 0)"
   ]
  },
  {
   "cell_type": "code",
   "execution_count": 5,
   "metadata": {},
   "outputs": [
    {
     "data": {
      "text/plain": [
       "10"
      ]
     },
     "execution_count": 5,
     "metadata": {},
     "output_type": "execute_result"
    }
   ],
   "source": [
    "# <物件>.<欄位>\n",
    "time1.hour"
   ]
  },
  {
   "cell_type": "code",
   "execution_count": 6,
   "metadata": {},
   "outputs": [
    {
     "ename": "ErrorException",
     "evalue": "setfield! immutable struct of type Time cannot be changed",
     "output_type": "error",
     "traceback": [
      "setfield! immutable struct of type Time cannot be changed",
      "",
      "Stacktrace:",
      " [1] setproperty!(::Time, ::Symbol, ::Int64) at .\\sysimg.jl:19",
      " [2] top-level scope at In[6]:1"
     ]
    }
   ],
   "source": [
    "# 用struct建構的型別是不可變的\n",
    "time1.hour = 5"
   ]
  },
  {
   "cell_type": "code",
   "execution_count": 7,
   "metadata": {},
   "outputs": [],
   "source": [
    "# 建立可變的型別\n",
    "mutable struct Time2\n",
    "    hour::Int64\n",
    "    minute::Int64\n",
    "    second::Int64\n",
    "end"
   ]
  },
  {
   "cell_type": "code",
   "execution_count": 8,
   "metadata": {},
   "outputs": [
    {
     "data": {
      "text/plain": [
       "Time2(10, 5, 0)"
      ]
     },
     "execution_count": 8,
     "metadata": {},
     "output_type": "execute_result"
    }
   ],
   "source": [
    "time2 = Time2(10, 5, 0)"
   ]
  },
  {
   "cell_type": "code",
   "execution_count": 9,
   "metadata": {},
   "outputs": [
    {
     "data": {
      "text/plain": [
       "5"
      ]
     },
     "execution_count": 9,
     "metadata": {},
     "output_type": "execute_result"
    }
   ],
   "source": [
    "# 改變型別欄位\n",
    "time2.hour = 5"
   ]
  },
  {
   "cell_type": "code",
   "execution_count": 10,
   "metadata": {},
   "outputs": [
    {
     "ename": "MethodError",
     "evalue": "MethodError: Cannot `convert` an object of type String to an object of type Int64\nClosest candidates are:\n  convert(::Type{T<:Number}, !Matched::T<:Number) where T<:Number at number.jl:6\n  convert(::Type{T<:Number}, !Matched::Number) where T<:Number at number.jl:7\n  convert(::Type{T<:Integer}, !Matched::Ptr) where T<:Integer at pointer.jl:23\n  ...",
     "output_type": "error",
     "traceback": [
      "MethodError: Cannot `convert` an object of type String to an object of type Int64\nClosest candidates are:\n  convert(::Type{T<:Number}, !Matched::T<:Number) where T<:Number at number.jl:6\n  convert(::Type{T<:Number}, !Matched::Number) where T<:Number at number.jl:7\n  convert(::Type{T<:Integer}, !Matched::Ptr) where T<:Integer at pointer.jl:23\n  ...",
      "",
      "Stacktrace:",
      " [1] setproperty!(::Time2, ::Symbol, ::String) at .\\sysimg.jl:19",
      " [2] top-level scope at In[10]:1"
     ]
    }
   ],
   "source": [
    "# 型別錯誤\n",
    "time2.hour = \"Hi\""
   ]
  },
  {
   "cell_type": "code",
   "execution_count": 11,
   "metadata": {},
   "outputs": [],
   "source": [
    "mutable struct Time3\n",
    "    hour::Int64\n",
    "    minute::Int64\n",
    "    second::Int64\n",
    "    Time3(h, m) = new(h, m, 0)  # 內部建構子\n",
    "end\n",
    "\n",
    "# 內部建構子是一個函式, 函式名稱必須與型別名稱相同\n",
    "# new只能在內部建構子中使用, 參數與型別欄位依序對應\n",
    "# 此例為: 只允許變更小時及分鐘欄位, 秒數固定為0"
   ]
  },
  {
   "cell_type": "code",
   "execution_count": 12,
   "metadata": {},
   "outputs": [
    {
     "data": {
      "text/plain": [
       "Time3(3, 4, 0)"
      ]
     },
     "execution_count": 12,
     "metadata": {},
     "output_type": "execute_result"
    }
   ],
   "source": [
    "time3 = Time3(3, 4)"
   ]
  },
  {
   "cell_type": "code",
   "execution_count": 13,
   "metadata": {},
   "outputs": [
    {
     "ename": "MethodError",
     "evalue": "MethodError: no method matching Time3(::Int64, ::Int64, ::Int64)\nClosest candidates are:\n  Time3(::Any, ::Any) at In[11]:5",
     "output_type": "error",
     "traceback": [
      "MethodError: no method matching Time3(::Int64, ::Int64, ::Int64)\nClosest candidates are:\n  Time3(::Any, ::Any) at In[11]:5",
      "",
      "Stacktrace:",
      " [1] top-level scope at In[13]:1"
     ]
    }
   ],
   "source": [
    "# 須遵循內部建構子的設定\n",
    "time3 = Time3(3, 4, 3)"
   ]
  },
  {
   "cell_type": "code",
   "execution_count": 14,
   "metadata": {},
   "outputs": [
    {
     "data": {
      "text/plain": [
       "8×8 Array{Int64,2}:\n",
       " 55834574862   8589934594  115964117018  …             5  47244640266\n",
       " 55834574863  90194313219   12884901914     150323855396            0\n",
       " 55834574848  12884901909   12884901891     150323855397            0\n",
       " 68719476749  12884901891   12884901891     150323855360            0\n",
       " 55834574865  98784247811   12884901891     163208757283            0\n",
       " 55834574861  98784247832  120259084291  …  150323855399            0\n",
       "  4294967309  12884901891  120259084317     150323855395            0\n",
       "  8589934594  12884901891   12884901891      42949672995            0"
      ]
     },
     "execution_count": 14,
     "metadata": {},
     "output_type": "execute_result"
    }
   ],
   "source": [
    "# 參數化型別, 此例的Int64為輸入的參數\n",
    "Matrix{Int64}(undef, 8, 8)"
   ]
  },
  {
   "cell_type": "code",
   "execution_count": 15,
   "metadata": {},
   "outputs": [],
   "source": [
    "# 參數名稱建議大寫的單一字母\n",
    "struct Box{T}\n",
    "    element::T\n",
    "end"
   ]
  },
  {
   "cell_type": "code",
   "execution_count": 16,
   "metadata": {},
   "outputs": [
    {
     "data": {
      "text/plain": [
       "Char"
      ]
     },
     "execution_count": 16,
     "metadata": {},
     "output_type": "execute_result"
    }
   ],
   "source": [
    "x = Box{Char}('A')\n",
    "typeof(x.element)"
   ]
  },
  {
   "cell_type": "code",
   "execution_count": 17,
   "metadata": {},
   "outputs": [
    {
     "data": {
      "text/plain": [
       "format (generic function with 1 method)"
      ]
     },
     "execution_count": 17,
     "metadata": {},
     "output_type": "execute_result"
    }
   ],
   "source": [
    "mutable struct Time2\n",
    "    hour::Int64\n",
    "    minute::Int64\n",
    "    second::Int64\n",
    "end\n",
    "\n",
    "format(time::Time2) = \"$(time.hour):$(time.minute):$(time.second)\""
   ]
  },
  {
   "cell_type": "code",
   "execution_count": 18,
   "metadata": {},
   "outputs": [
    {
     "data": {
      "text/plain": [
       "\"12:0:0\""
      ]
     },
     "execution_count": 18,
     "metadata": {},
     "output_type": "execute_result"
    }
   ],
   "source": [
    "time = Time2(12, 0, 0)\n",
    "formated_time = format(time)"
   ]
  },
  {
   "cell_type": "code",
   "execution_count": 19,
   "metadata": {},
   "outputs": [
    {
     "data": {
      "text/plain": [
       "ispm (generic function with 1 method)"
      ]
     },
     "execution_count": 19,
     "metadata": {},
     "output_type": "execute_result"
    }
   ],
   "source": [
    "# 判斷是否為上午或下午的方法\n",
    "function isam(time::Time2)\n",
    "    if 0 <= time.hour < 12\n",
    "        return true\n",
    "    end\n",
    "    return false\n",
    "end\n",
    "\n",
    "function ispm(time::Time2)\n",
    "    if 12 <= time.hour < 24\n",
    "        return true\n",
    "    end\n",
    "    return false\n",
    "end"
   ]
  },
  {
   "cell_type": "code",
   "execution_count": 20,
   "metadata": {},
   "outputs": [
    {
     "data": {
      "text/plain": [
       "false"
      ]
     },
     "execution_count": 20,
     "metadata": {},
     "output_type": "execute_result"
    }
   ],
   "source": [
    "isam(time)"
   ]
  },
  {
   "cell_type": "code",
   "execution_count": 21,
   "metadata": {},
   "outputs": [
    {
     "data": {
      "text/plain": [
       "true"
      ]
     },
     "execution_count": 21,
     "metadata": {},
     "output_type": "execute_result"
    }
   ],
   "source": [
    "ispm(time)"
   ]
  },
  {
   "cell_type": "code",
   "execution_count": 22,
   "metadata": {},
   "outputs": [],
   "source": [
    "# 抽象型別\n",
    "\n",
    "# 建立抽象型別\n",
    "abstract type Animal end\n",
    "\n",
    "# 貓跟狗型別都是Animal的子型別, 而Animal則作為父型別\n",
    "struct Dog <: Animal\n",
    "    name::String\n",
    "end\n",
    "struct Cat <: Animal\n",
    "    name::String\n",
    "end"
   ]
  },
  {
   "cell_type": "code",
   "execution_count": 23,
   "metadata": {},
   "outputs": [
    {
     "ename": "MethodError",
     "evalue": "MethodError: no constructors have been defined for Animal",
     "output_type": "error",
     "traceback": [
      "MethodError: no constructors have been defined for Animal",
      "",
      "Stacktrace:",
      " [1] top-level scope at In[23]:1"
     ]
    }
   ],
   "source": [
    "# 抽象型別不能被實體化\n",
    "Animal()"
   ]
  },
  {
   "cell_type": "code",
   "execution_count": 24,
   "metadata": {},
   "outputs": [
    {
     "ename": "ErrorException",
     "evalue": "invalid subtyping in definition of Poppy",
     "output_type": "error",
     "traceback": [
      "invalid subtyping in definition of Poppy",
      "",
      "Stacktrace:",
      " [1] top-level scope at none:0"
     ]
    }
   ],
   "source": [
    "# 具體型別不能作為父型別\n",
    "struct Poppy <: Dog\n",
    "    name::String\n",
    "end"
   ]
  },
  {
   "cell_type": "code",
   "execution_count": 25,
   "metadata": {},
   "outputs": [],
   "source": [
    "# 抽象型別可作為子型別或父型別\n",
    "abstract type Hippo <: Animal end"
   ]
  },
  {
   "cell_type": "code",
   "execution_count": 26,
   "metadata": {},
   "outputs": [
    {
     "data": {
      "text/plain": [
       "name (generic function with 1 method)"
      ]
     },
     "execution_count": 26,
     "metadata": {},
     "output_type": "execute_result"
    }
   ],
   "source": [
    "# 定義抽象型別的Method\n",
    "name(a::Animal) = println(\"My name is $(a.name)\")"
   ]
  },
  {
   "cell_type": "code",
   "execution_count": 27,
   "metadata": {},
   "outputs": [
    {
     "name": "stdout",
     "output_type": "stream",
     "text": [
      "My name is 小黃\n"
     ]
    }
   ],
   "source": [
    "d = Dog(\"小黃\")\n",
    "name(d)"
   ]
  },
  {
   "cell_type": "code",
   "execution_count": 28,
   "metadata": {},
   "outputs": [
    {
     "name": "stdout",
     "output_type": "stream",
     "text": [
      "My name is 咪咪\n"
     ]
    }
   ],
   "source": [
    "c = Cat(\"咪咪\")\n",
    "name(c)"
   ]
  },
  {
   "cell_type": "code",
   "execution_count": 29,
   "metadata": {},
   "outputs": [
    {
     "data": {
      "text/plain": [
       "Animal"
      ]
     },
     "execution_count": 29,
     "metadata": {},
     "output_type": "execute_result"
    }
   ],
   "source": [
    "# 查詢父型別\n",
    "supertype(Dog)"
   ]
  },
  {
   "cell_type": "code",
   "execution_count": 30,
   "metadata": {},
   "outputs": [
    {
     "data": {
      "text/plain": [
       "Any"
      ]
     },
     "execution_count": 30,
     "metadata": {},
     "output_type": "execute_result"
    }
   ],
   "source": [
    "# 沒有父型別, 內建為Any\n",
    "supertype(Animal)"
   ]
  },
  {
   "cell_type": "code",
   "execution_count": 31,
   "metadata": {},
   "outputs": [
    {
     "data": {
      "text/plain": [
       "Any"
      ]
     },
     "execution_count": 31,
     "metadata": {},
     "output_type": "execute_result"
    }
   ],
   "source": [
    "# Any的父型別還是Any\n",
    "supertype(Any)"
   ]
  },
  {
   "cell_type": "code",
   "execution_count": 32,
   "metadata": {},
   "outputs": [
    {
     "data": {
      "text/plain": [
       "3-element Array{Any,1}:\n",
       " Cat  \n",
       " Dog  \n",
       " Hippo"
      ]
     },
     "execution_count": 32,
     "metadata": {},
     "output_type": "execute_result"
    }
   ],
   "source": [
    "# 查詢子型別\n",
    "subtypes(Animal)"
   ]
  },
  {
   "cell_type": "code",
   "execution_count": 33,
   "metadata": {},
   "outputs": [
    {
     "data": {
      "text/plain": [
       "0-element Array{Type,1}"
      ]
     },
     "execution_count": 33,
     "metadata": {},
     "output_type": "execute_result"
    }
   ],
   "source": [
    "subtypes(Dog)"
   ]
  },
  {
   "cell_type": "code",
   "execution_count": 34,
   "metadata": {},
   "outputs": [
    {
     "data": {
      "text/plain": [
       "true"
      ]
     },
     "execution_count": 34,
     "metadata": {},
     "output_type": "execute_result"
    }
   ],
   "source": [
    "# 確認型別父子關係\n",
    "Hippo <: Animal"
   ]
  },
  {
   "cell_type": "code",
   "execution_count": 35,
   "metadata": {},
   "outputs": [
    {
     "ename": "MethodError",
     "evalue": "MethodError: no method matching SelfReferential()\nClosest candidates are:\n  SelfReferential(!Matched::SelfReferential) at In[35]:6\n  SelfReferential(!Matched::Any) at In[35]:6",
     "output_type": "error",
     "traceback": [
      "MethodError: no method matching SelfReferential()\nClosest candidates are:\n  SelfReferential(!Matched::SelfReferential) at In[35]:6\n  SelfReferential(!Matched::Any) at In[35]:6",
      "",
      "Stacktrace:",
      " [1] top-level scope at In[35]:8"
     ]
    }
   ],
   "source": [
    "# 初始化不完全\n",
    "\n",
    "# 若想建立一型別, 且其中的欄位也要是該型別\n",
    "# 一般情況, 我們難以為該欄位實體化一個該型別的物件\n",
    "mutable struct SelfReferential\n",
    "    obj::SelfReferential\n",
    "end\n",
    "\n",
    "SelfReferential()\n",
    "# 下面提供解法"
   ]
  },
  {
   "cell_type": "code",
   "execution_count": 36,
   "metadata": {},
   "outputs": [
    {
     "data": {
      "text/plain": [
       "SelfReferential2(SelfReferential2(#= circular reference @-1 =#))"
      ]
     },
     "execution_count": 36,
     "metadata": {},
     "output_type": "execute_result"
    }
   ],
   "source": [
    "# 自我參考\n",
    "mutable struct SelfReferential2\n",
    "    obj::SelfReferential2\n",
    "    function SelfReferential2()\n",
    "        x = new()\n",
    "        x.obj = x\n",
    "        return x\n",
    "    end\n",
    "end\n",
    "\n",
    "sr2 = SelfReferential2()"
   ]
  },
  {
   "cell_type": "code",
   "execution_count": 37,
   "metadata": {},
   "outputs": [
    {
     "name": "stdout",
     "output_type": "stream",
     "text": [
      "true\n",
      "true\n"
     ]
    }
   ],
   "source": [
    "println(sr2 === sr2.obj)   # '==='判斷是否為同一記憶體位址的物件\n",
    "println(sr2 === sr2.obj.obj)"
   ]
  },
  {
   "cell_type": "code",
   "execution_count": 1,
   "metadata": {},
   "outputs": [
    {
     "data": {
      "text/plain": [
       "remove! (generic function with 1 method)"
      ]
     },
     "execution_count": 1,
     "metadata": {},
     "output_type": "execute_result"
    }
   ],
   "source": [
    "# 範例: LinkedList\n",
    "\n",
    "mutable struct Node\n",
    "    prev::Union{Node, Nothing}\n",
    "    next::Union{Node, Nothing}\n",
    "    data\n",
    "end\n",
    "\n",
    "function Base.show(io::IO, node::Node)\n",
    "    print(io, \"Node(\")\n",
    "    (node.prev != nothing) && print(io, \" - \")\n",
    "    print(io, \"$(node.data)\")\n",
    "    (node.next != nothing) && print(io, \" - \")\n",
    "    print(io, \")\")\n",
    "end\n",
    "\n",
    "mutable struct LinkedList\n",
    "    head::Node\n",
    "    tail::Node\n",
    "    current::Node\n",
    "    function LinkedList(data)\n",
    "        node = Node(nothing, nothing, data)\n",
    "        new(node, node, node)\n",
    "    end\n",
    "end\n",
    "\n",
    "function Base.show(io::IO, ll::LinkedList)\n",
    "    ll.current = ll.head\n",
    "    print(io, \"LinkedList(\")\n",
    "    while ll.current != ll.tail\n",
    "        print(io, \"$(ll.current.data) - \")\n",
    "        ll.current = ll.current.next\n",
    "    end\n",
    "    print(io, \"$(ll.current.data))\")\n",
    "end\n",
    "\n",
    "function insert!(ll::LinkedList, node::Node)\n",
    "    node.prev = ll.current\n",
    "    node.next = ll.current.next\n",
    "    if ll.current === ll.tail\n",
    "        ll.tail = node\n",
    "    else\n",
    "        ll.current.next.prev = node\n",
    "    end\n",
    "    ll.current.next = node\n",
    "    ll.current = node\n",
    "    ll\n",
    "end\n",
    "\n",
    "function remove!(ll::LinkedList)\n",
    "    if ll.current != ll.head\n",
    "        ll.current.prev.next = ll.current.next\n",
    "    else\n",
    "        ll.head = ll.current.next\n",
    "    end\n",
    "    if ll.current != ll.tail\n",
    "        ll.current.next.prev = ll.current.prev\n",
    "        ll.current = ll.current.next\n",
    "    else\n",
    "        ll.tail = ll.current.prev\n",
    "    end\n",
    "    ll\n",
    "end"
   ]
  },
  {
   "cell_type": "code",
   "execution_count": 2,
   "metadata": {},
   "outputs": [
    {
     "data": {
      "text/plain": [
       "LinkedList(0)"
      ]
     },
     "execution_count": 2,
     "metadata": {},
     "output_type": "execute_result"
    }
   ],
   "source": [
    "ll = LinkedList(0)"
   ]
  },
  {
   "cell_type": "code",
   "execution_count": 3,
   "metadata": {},
   "outputs": [
    {
     "data": {
      "text/plain": [
       "LinkedList(0 - 1 - 2 - 3 - 4)"
      ]
     },
     "execution_count": 3,
     "metadata": {},
     "output_type": "execute_result"
    }
   ],
   "source": [
    "insert!(ll, Node(nothing, nothing, 1))\n",
    "insert!(ll, Node(nothing, nothing, 2))\n",
    "insert!(ll, Node(nothing, nothing, 3))\n",
    "insert!(ll, Node(nothing, nothing, 4))"
   ]
  },
  {
   "cell_type": "code",
   "execution_count": 4,
   "metadata": {},
   "outputs": [
    {
     "data": {
      "text/plain": [
       "LinkedList(0 - 1 - 2 - 3)"
      ]
     },
     "execution_count": 4,
     "metadata": {},
     "output_type": "execute_result"
    }
   ],
   "source": [
    "remove!(ll)"
   ]
  },
  {
   "cell_type": "code",
   "execution_count": null,
   "metadata": {},
   "outputs": [],
   "source": []
  },
  {
   "cell_type": "code",
   "execution_count": 3,
   "metadata": {},
   "outputs": [
    {
     "data": {
      "text/plain": [
       "f (generic function with 1 method)"
      ]
     },
     "execution_count": 3,
     "metadata": {},
     "output_type": "execute_result"
    }
   ],
   "source": [
    "# 實作一個方法\n",
    "f(x::Float64, y::Int64) = x^y"
   ]
  },
  {
   "cell_type": "code",
   "execution_count": 4,
   "metadata": {},
   "outputs": [
    {
     "data": {
      "text/plain": [
       "15.625"
      ]
     },
     "execution_count": 4,
     "metadata": {},
     "output_type": "execute_result"
    }
   ],
   "source": [
    "f(2.5, 3)"
   ]
  },
  {
   "cell_type": "code",
   "execution_count": 5,
   "metadata": {},
   "outputs": [
    {
     "data": {
      "text/html": [
       "2 methods for generic function <b>f</b>:<ul><li> f(x::<b>Float64</b>, y::<b>Int64</b>) in Main at In[3]:2</li> <li> f(x::<b>Number</b>, y::<b>Number</b>) in Main at In[5]:1</li> </ul>"
      ],
      "text/plain": [
       "# 2 methods for generic function \"f\":\n",
       "[1] f(x::Float64, y::Int64) in Main at In[3]:2\n",
       "[2] f(x::Number, y::Number) in Main at In[5]:1"
      ]
     },
     "execution_count": 5,
     "metadata": {},
     "output_type": "execute_result"
    }
   ],
   "source": [
    "# 同樣的函數名稱, 可以有多種方法\n",
    "f(x::Number, y::Number) = x^y\n",
    "methods(f)"
   ]
  },
  {
   "cell_type": "code",
   "execution_count": 6,
   "metadata": {},
   "outputs": [
    {
     "ename": "MethodError",
     "evalue": "MethodError: g(::Float64, ::Float64) is ambiguous. Candidates:\n  g(x, y::Float64) in Main at In[6]:3\n  g(x::Float64, y) in Main at In[6]:2\nPossible fix, define\n  g(::Float64, ::Float64)",
     "output_type": "error",
     "traceback": [
      "MethodError: g(::Float64, ::Float64) is ambiguous. Candidates:\n  g(x, y::Float64) in Main at In[6]:3\n  g(x::Float64, y) in Main at In[6]:2\nPossible fix, define\n  g(::Float64, ::Float64)",
      "",
      "Stacktrace:",
      " [1] top-level scope at In[6]:4"
     ]
    }
   ],
   "source": [
    "# 方法的模糊\n",
    "# 因為2種方法都符合, 系統無法判定該用哪個\n",
    "g(x::Float64, y) = 2x + y\n",
    "g(x, y::Float64) = x + 2y\n",
    "g(3.0, 4.0)"
   ]
  },
  {
   "cell_type": "code",
   "execution_count": 7,
   "metadata": {},
   "outputs": [
    {
     "data": {
      "text/plain": [
       "14.0"
      ]
     },
     "execution_count": 7,
     "metadata": {},
     "output_type": "execute_result"
    }
   ],
   "source": [
    "# 應盡量把方法定義清楚\n",
    "g(x::Float64, y) = 2x + y\n",
    "g(x, y::Float64) = x + 2y\n",
    "g(x::Float64, y::Float64) = 2x + 2y\n",
    "g(3.0, 4.0)"
   ]
  },
  {
   "cell_type": "code",
   "execution_count": 1,
   "metadata": {},
   "outputs": [
    {
     "data": {
      "text/plain": [
       "true"
      ]
     },
     "execution_count": 1,
     "metadata": {},
     "output_type": "execute_result"
    }
   ],
   "source": [
    "# 參數化方法\n",
    "\n",
    "# 試著建立判別型別是否相同的方法\n",
    "same_type(x::T, y::T) where {T} = true\n",
    "same_type(x, y) = false\n",
    "\n",
    "same_type(5.2, 5.4)\n",
    "\n",
    "# 此處利用多重分派的特性\n",
    "# 若type相符則會使用第一個方法, 其他則用第二種"
   ]
  },
  {
   "cell_type": "code",
   "execution_count": 7,
   "metadata": {},
   "outputs": [
    {
     "data": {
      "text/plain": [
       "addone (generic function with 2 methods)"
      ]
     },
     "execution_count": 7,
     "metadata": {},
     "output_type": "execute_result"
    }
   ],
   "source": [
    "# 在陣列中加上元素\n",
    "\n",
    "# 若元素型別相同則將元素加入陣列尾端\n",
    "addone(v::Vector{T}, x::T) where {T} = [v..., x]\n",
    "addone(v::Vector, x) = println(\"types are not consistent\")\n",
    "\n",
    "# v... 是將v陣列做展開"
   ]
  },
  {
   "cell_type": "code",
   "execution_count": 8,
   "metadata": {},
   "outputs": [
    {
     "data": {
      "text/plain": [
       "4-element Array{Int64,1}:\n",
       " 1\n",
       " 2\n",
       " 3\n",
       " 4"
      ]
     },
     "execution_count": 8,
     "metadata": {},
     "output_type": "execute_result"
    }
   ],
   "source": [
    "addone([1, 2, 3], 4)"
   ]
  },
  {
   "cell_type": "code",
   "execution_count": 9,
   "metadata": {},
   "outputs": [
    {
     "name": "stdout",
     "output_type": "stream",
     "text": [
      "types are not consistent\n"
     ]
    }
   ],
   "source": [
    "addone([1, 2, 3], 4.0)"
   ]
  },
  {
   "cell_type": "code",
   "execution_count": 16,
   "metadata": {},
   "outputs": [
    {
     "data": {
      "text/plain": [
       "foobar (generic function with 1 method)"
      ]
     },
     "execution_count": 16,
     "metadata": {},
     "output_type": "execute_result"
    }
   ],
   "source": [
    "# 限制第三個參數須為整數型別\n",
    "foobar(a, b, x::T) where {T <: Integer} = (a, b, x)"
   ]
  },
  {
   "cell_type": "code",
   "execution_count": null,
   "metadata": {},
   "outputs": [],
   "source": []
  }
 ],
 "metadata": {
  "kernelspec": {
   "display_name": "Julia 1.1.0",
   "language": "julia",
   "name": "julia-1.1"
  },
  "language_info": {
   "file_extension": ".jl",
   "mimetype": "application/julia",
   "name": "julia",
   "version": "1.1.0"
  }
 },
 "nbformat": 4,
 "nbformat_minor": 2
}
