{
 "cells": [
  {
   "cell_type": "code",
   "execution_count": 1,
   "metadata": {},
   "outputs": [
    {
     "name": "stdout",
     "output_type": "stream",
     "text": [
      "x is less than y"
     ]
    }
   ],
   "source": [
    "x = 0\n",
    "y = 5\n",
    "\n",
    "if x < y\n",
    "    print(\"x is less than y\")\n",
    "end"
   ]
  },
  {
   "cell_type": "code",
   "execution_count": 5,
   "metadata": {},
   "outputs": [
    {
     "name": "stdout",
     "output_type": "stream",
     "text": [
      "x is not less to y"
     ]
    }
   ],
   "source": [
    "x = rand(1:10)\n",
    "y = 5\n",
    "\n",
    "if x < y\n",
    "    print(\"x is less than y\")\n",
    "else\n",
    "    print(\"x is not less to y\")\n",
    "end"
   ]
  },
  {
   "cell_type": "code",
   "execution_count": 18,
   "metadata": {},
   "outputs": [
    {
     "name": "stdout",
     "output_type": "stream",
     "text": [
      "x is equal to y"
     ]
    }
   ],
   "source": [
    "x = rand(1:10)\n",
    "y = 5\n",
    "\n",
    "if x < y\n",
    "    print(\"x is less than y\")\n",
    "elseif x > y\n",
    "    print(\"x is greater than y\")\n",
    "else\n",
    "    print(\"x is equal to y\")\n",
    "end"
   ]
  },
  {
   "cell_type": "code",
   "execution_count": 29,
   "metadata": {},
   "outputs": [
    {
     "name": "stdout",
     "output_type": "stream",
     "text": [
      "x wins!"
     ]
    }
   ],
   "source": [
    "#= \n",
    "猜拳遊戲\n",
    "1: 剪刀\n",
    "2: 石頭\n",
    "3: 布\n",
    "x, y 代表雙方出拳狀況\n",
    "=#\n",
    "x = rand(1:3)\n",
    "y = rand(1:3)\n",
    "\n",
    "if x == 1\n",
    "    if y == 2\n",
    "        print(\"y wins!\")\n",
    "    elseif y == 3\n",
    "        print(\"x wins!\")\n",
    "    else\n",
    "        print(\"End in a draw!\")\n",
    "    end\n",
    "elseif x == 2\n",
    "    if y == 1\n",
    "        print(\"x wins!\")\n",
    "    elseif y == 3\n",
    "        print(\"y wins!\")\n",
    "    else\n",
    "        print(\"End in a draw!\")\n",
    "    end\n",
    "else\n",
    "    if y == 1\n",
    "        print(\"y wins!\")\n",
    "    elseif y == 2\n",
    "        print(\"x wins!\")\n",
    "    else\n",
    "        print(\"End in a draw!\")\n",
    "    end\n",
    "end"
   ]
  },
  {
   "cell_type": "code",
   "execution_count": 62,
   "metadata": {},
   "outputs": [
    {
     "name": "stdout",
     "output_type": "stream",
     "text": [
      "stdin> 12\n",
      "stdin> 58\n",
      "stdin> 4\n",
      "您所輸入的三個數字分別為 : 12, 58, 4\n",
      "其中, 最大的整數為 : 58\n",
      "最小的整數為 : 4\n"
     ]
    }
   ],
   "source": [
    "x = parse(Int8, readline())\n",
    "y = parse(Int8, readline())\n",
    "z = parse(Int8, readline())\n",
    "println(\"您所輸入的三個數字分別為 : \", x, \", \", y, \", \", z)\n",
    "if x < y && x < z       # 最小的是x\n",
    "    mini = x\n",
    "    if y < z\n",
    "        maxi = z\n",
    "    else\n",
    "        maxi = y\n",
    "    end\n",
    "    println(x < y && x < z)\n",
    "elseif y < x && y < z   # 最小的是y\n",
    "    mini = y\n",
    "    if x < z\n",
    "        maxi = z\n",
    "    else\n",
    "        maxi = x\n",
    "    end\n",
    "else                    # 最小的是z\n",
    "    mini = z\n",
    "    if x < y\n",
    "        maxi = y\n",
    "    else\n",
    "        maxi = x\n",
    "    end\n",
    "end\n",
    "println(\"其中, 最大的整數為 : \", maxi)\n",
    "println(\"最小的整數為 : \", mini)"
   ]
  },
  {
   "cell_type": "code",
   "execution_count": null,
   "metadata": {},
   "outputs": [],
   "source": []
  }
 ],
 "metadata": {
  "kernelspec": {
   "display_name": "Julia 1.1.0",
   "language": "julia",
   "name": "julia-1.1"
  },
  "language_info": {
   "file_extension": ".jl",
   "mimetype": "application/julia",
   "name": "julia",
   "version": "1.1.0"
  }
 },
 "nbformat": 4,
 "nbformat_minor": 2
}
